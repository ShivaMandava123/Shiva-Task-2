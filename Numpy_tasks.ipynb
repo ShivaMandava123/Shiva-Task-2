{
  "cells": [
    {
      "cell_type": "markdown",
      "metadata": {
        "id": "view-in-github",
        "colab_type": "text"
      },
      "source": [
        "<a href=\"https://colab.research.google.com/github/ShivaMandava123/Shiva-Task-2/blob/main/Numpy_tasks.ipynb\" target=\"_parent\"><img src=\"https://colab.research.google.com/assets/colab-badge.svg\" alt=\"Open In Colab\"/></a>"
      ]
    },
    {
      "cell_type": "markdown",
      "metadata": {
        "id": "-RLDlntpJfTA"
      },
      "source": [
        "# Numpy\n",
        "\n"
      ]
    },
    {
      "cell_type": "markdown",
      "metadata": {
        "id": "JzUlrnilJfTC"
      },
      "source": [
        "#### 1. Import the numpy package under the name `np` (★☆☆) \n",
        "(**hint**: import … as …)"
      ]
    },
    {
      "cell_type": "code",
      "execution_count": null,
      "metadata": {
        "collapsed": true,
        "id": "tsThiO85JfTD",
        "outputId": "8e67db94-9f4a-4b4d-cc14-4aed4892ca76",
        "colab": {
          "base_uri": "https://localhost:8080/"
        }
      },
      "outputs": [
        {
          "output_type": "stream",
          "name": "stdout",
          "text": [
            "[1 2 3 4 5]\n"
          ]
        }
      ],
      "source": [
        "import numpy as np\n",
        "\n",
        "arr = np.array([1, 2, 3, 4, 5])\n",
        "\n",
        "print(arr)"
      ]
    },
    {
      "cell_type": "markdown",
      "metadata": {
        "id": "b1PKcweCJfTE"
      },
      "source": [
        "#### 2. Print the numpy version and the configuration (★☆☆) \n",
        "(**hint**: np.\\_\\_version\\_\\_, np.show\\_config)"
      ]
    },
    {
      "cell_type": "code",
      "execution_count": null,
      "metadata": {
        "id": "4hibg3zVJfTF",
        "outputId": "c29a59a4-7fcc-4f3a-c405-0d7eacbf9b05",
        "colab": {
          "base_uri": "https://localhost:8080/"
        }
      },
      "outputs": [
        {
          "output_type": "stream",
          "name": "stdout",
          "text": [
            "1.21.6\n",
            "blas_mkl_info:\n",
            "  NOT AVAILABLE\n",
            "blis_info:\n",
            "  NOT AVAILABLE\n",
            "openblas_info:\n",
            "    libraries = ['openblas', 'openblas']\n",
            "    library_dirs = ['/usr/local/lib']\n",
            "    language = c\n",
            "    define_macros = [('HAVE_CBLAS', None)]\n",
            "    runtime_library_dirs = ['/usr/local/lib']\n",
            "blas_opt_info:\n",
            "    libraries = ['openblas', 'openblas']\n",
            "    library_dirs = ['/usr/local/lib']\n",
            "    language = c\n",
            "    define_macros = [('HAVE_CBLAS', None)]\n",
            "    runtime_library_dirs = ['/usr/local/lib']\n",
            "lapack_mkl_info:\n",
            "  NOT AVAILABLE\n",
            "openblas_lapack_info:\n",
            "    libraries = ['openblas', 'openblas']\n",
            "    library_dirs = ['/usr/local/lib']\n",
            "    language = c\n",
            "    define_macros = [('HAVE_CBLAS', None)]\n",
            "    runtime_library_dirs = ['/usr/local/lib']\n",
            "lapack_opt_info:\n",
            "    libraries = ['openblas', 'openblas']\n",
            "    library_dirs = ['/usr/local/lib']\n",
            "    language = c\n",
            "    define_macros = [('HAVE_CBLAS', None)]\n",
            "    runtime_library_dirs = ['/usr/local/lib']\n",
            "Supported SIMD extensions in this NumPy install:\n",
            "    baseline = SSE,SSE2,SSE3\n",
            "    found = SSSE3,SSE41,POPCNT,SSE42,AVX,F16C,FMA3,AVX2\n",
            "    not found = AVX512F,AVX512CD,AVX512_KNL,AVX512_KNM,AVX512_SKX,AVX512_CLX,AVX512_CNL,AVX512_ICL\n",
            "None\n"
          ]
        }
      ],
      "source": [
        "import numpy as np\n",
        "print(np.__version__)\n",
        "print(np.show_config())"
      ]
    },
    {
      "cell_type": "markdown",
      "metadata": {
        "id": "EqWp1BwsJfTF"
      },
      "source": [
        "#### 3. Create a null vector of size 10 (★☆☆) \n",
        "(**hint**: np.zeros)"
      ]
    },
    {
      "cell_type": "code",
      "execution_count": null,
      "metadata": {
        "id": "KOIkYRZdJfTG"
      },
      "outputs": [],
      "source": [
        "Z=np.zeros(10)"
      ]
    },
    {
      "cell_type": "markdown",
      "metadata": {
        "id": "iRJeKvihJfTG"
      },
      "source": [
        "#### 4.  How to find the memory size of any array (★☆☆) \n",
        "(**hint**: size, itemsize)"
      ]
    },
    {
      "cell_type": "code",
      "execution_count": null,
      "metadata": {
        "id": "uDcS5Ya1JfTG",
        "outputId": "6f1fe498-ccbe-41ce-f230-0752f24e8233",
        "colab": {
          "base_uri": "https://localhost:8080/"
        }
      },
      "outputs": [
        {
          "output_type": "stream",
          "name": "stdout",
          "text": [
            "128 bytes\n"
          ]
        }
      ],
      "source": [
        "n = np.zeros((4,4))\n",
        "print(\"%d bytes\" % (n.size * n.itemsize))"
      ]
    },
    {
      "cell_type": "markdown",
      "metadata": {
        "id": "X_JA8y5KJfTG"
      },
      "source": [
        "#### 5.  How to get the documentation of the numpy add function from the command line? (★☆☆) \n",
        "(**hint**: np.info)"
      ]
    },
    {
      "cell_type": "code",
      "execution_count": null,
      "metadata": {
        "collapsed": true,
        "id": "sxkI9_khJfTH",
        "outputId": "1699feff-507b-472d-b41d-e44fe66bdc2a",
        "colab": {
          "base_uri": "https://localhost:8080/"
        }
      },
      "outputs": [
        {
          "output_type": "stream",
          "name": "stdout",
          "text": [
            "add(x1, x2, /, out=None, *, where=True, casting='same_kind', order='K', dtype=None, subok=True[, signature, extobj])\n",
            "\n",
            "Add arguments element-wise.\n",
            "\n",
            "Parameters\n",
            "----------\n",
            "x1, x2 : array_like\n",
            "    The arrays to be added.\n",
            "    If ``x1.shape != x2.shape``, they must be broadcastable to a common\n",
            "    shape (which becomes the shape of the output).\n",
            "out : ndarray, None, or tuple of ndarray and None, optional\n",
            "    A location into which the result is stored. If provided, it must have\n",
            "    a shape that the inputs broadcast to. If not provided or None,\n",
            "    a freshly-allocated array is returned. A tuple (possible only as a\n",
            "    keyword argument) must have length equal to the number of outputs.\n",
            "where : array_like, optional\n",
            "    This condition is broadcast over the input. At locations where the\n",
            "    condition is True, the `out` array will be set to the ufunc result.\n",
            "    Elsewhere, the `out` array will retain its original value.\n",
            "    Note that if an uninitialized `out` array is created via the default\n",
            "    ``out=None``, locations within it where the condition is False will\n",
            "    remain uninitialized.\n",
            "**kwargs\n",
            "    For other keyword-only arguments, see the\n",
            "    :ref:`ufunc docs <ufuncs.kwargs>`.\n",
            "\n",
            "Returns\n",
            "-------\n",
            "add : ndarray or scalar\n",
            "    The sum of `x1` and `x2`, element-wise.\n",
            "    This is a scalar if both `x1` and `x2` are scalars.\n",
            "\n",
            "Notes\n",
            "-----\n",
            "Equivalent to `x1` + `x2` in terms of array broadcasting.\n",
            "\n",
            "Examples\n",
            "--------\n",
            ">>> np.add(1.0, 4.0)\n",
            "5.0\n",
            ">>> x1 = np.arange(9.0).reshape((3, 3))\n",
            ">>> x2 = np.arange(3.0)\n",
            ">>> np.add(x1, x2)\n",
            "array([[  0.,   2.,   4.],\n",
            "       [  3.,   5.,   7.],\n",
            "       [  6.,   8.,  10.]])\n",
            "\n",
            "The ``+`` operator can be used as a shorthand for ``np.add`` on ndarrays.\n",
            "\n",
            ">>> x1 = np.arange(9.0).reshape((3, 3))\n",
            ">>> x2 = np.arange(3.0)\n",
            ">>> x1 + x2\n",
            "array([[ 0.,  2.,  4.],\n",
            "       [ 3.,  5.,  7.],\n",
            "       [ 6.,  8., 10.]])\n",
            "None\n"
          ]
        }
      ],
      "source": [
        "import numpy as np\n",
        "print(np.info(np.add))"
      ]
    },
    {
      "cell_type": "markdown",
      "metadata": {
        "id": "2gCMP5xVJfTI"
      },
      "source": [
        "#### 6.  Create a null vector of size 10 but the fifth value which is 1 (★☆☆) \n",
        "(**hint**: array\\[4\\])"
      ]
    },
    {
      "cell_type": "code",
      "execution_count": null,
      "metadata": {
        "id": "T1om3mS4JfTI",
        "outputId": "9edc1709-3a52-4f76-e984-667e0a61450e",
        "colab": {
          "base_uri": "https://localhost:8080/"
        }
      },
      "outputs": [
        {
          "output_type": "execute_result",
          "data": {
            "text/plain": [
              "[[1.0, 0.0, 0.0], [0.0, 1.0, 2.0]]"
            ]
          },
          "metadata": {},
          "execution_count": 9
        }
      ],
      "source": [
        "[[1., 0., 0.],\n",
        " [0., 1., 2.]]"
      ]
    },
    {
      "cell_type": "markdown",
      "metadata": {
        "id": "c9MvuX8sJfTI"
      },
      "source": [
        "#### 7.  Create a vector with values ranging from 10 to 49 (★☆☆) \n",
        "(**hint**: np.arange)"
      ]
    },
    {
      "cell_type": "code",
      "execution_count": null,
      "metadata": {
        "id": "8Bh5a8mDJfTJ"
      },
      "outputs": [],
      "source": [
        "d = {}\n",
        "d = {\"A\":50, \"b\":65}\n",
        "d = {50:\"A\", 65:\"B\"}"
      ]
    },
    {
      "cell_type": "markdown",
      "metadata": {
        "id": "hqiWzDlVJfTJ"
      },
      "source": [
        "#### 8.  Reverse a vector (first element becomes last) (★☆☆) \n",
        "(**hint**: array\\[::-1\\])"
      ]
    },
    {
      "cell_type": "code",
      "execution_count": null,
      "metadata": {
        "id": "sqCQFsVgJfTJ",
        "colab": {
          "base_uri": "https://localhost:8080/"
        },
        "outputId": "ff520aa3-98fd-40af-b741-90a54357ec0f"
      },
      "outputs": [
        {
          "output_type": "stream",
          "name": "stdout",
          "text": [
            "Original array:\n",
            "[12 13 14 15 16 17 18 19 20 21 22 23 24 25 26 27 28 29 30 31 32 33 34 35\n",
            " 36 37]\n",
            "Reverse array:\n",
            "[37 36 35 34 33 32 31 30 29 28 27 26 25 24 23 22 21 20 19 18 17 16 15 14\n",
            " 13 12]\n"
          ]
        }
      ],
      "source": [
        "import numpy as np\n",
        "import numpy as np\n",
        "x = np.arange(12, 38)\n",
        "print(\"Original array:\")\n",
        "print(x)\n",
        "print(\"Reverse array:\")\n",
        "x = x[::-1]\n",
        "print(x)"
      ]
    },
    {
      "cell_type": "markdown",
      "metadata": {
        "id": "fs1wRvsoJfTJ"
      },
      "source": [
        "#### 9.  Create a 3x3 matrix with values ranging from 0 to 8 (★☆☆) \n",
        "(**hint**: reshape)"
      ]
    },
    {
      "cell_type": "code",
      "execution_count": null,
      "metadata": {
        "id": "fZTJ29qiJfTJ",
        "outputId": "6ed02397-51c8-4936-bfb3-f2cb12637cd0",
        "colab": {
          "base_uri": "https://localhost:8080/"
        }
      },
      "outputs": [
        {
          "output_type": "stream",
          "name": "stdout",
          "text": [
            "Original array:\n",
            "[12 13 14 15 16 17 18 19 20 21 22 23 24 25 26 27 28 29 30 31 32 33 34 35\n",
            " 36 37]\n",
            "Reverse array:\n",
            "[37 36 35 34 33 32 31 30 29 28 27 26 25 24 23 22 21 20 19 18 17 16 15 14\n",
            " 13 12]\n"
          ]
        }
      ],
      "source": [
        "import numpy as np\n",
        "import numpy as np\n",
        "x = np.arange(12, 38)\n",
        "print(\"Original array:\")\n",
        "print(x)\n",
        "print(\"Reverse array:\")\n",
        "x = x[::-1]\n",
        "print(x)"
      ]
    },
    {
      "cell_type": "markdown",
      "metadata": {
        "id": "qjW0U4KFJfTK"
      },
      "source": [
        "#### 10. Find indices of non-zero elements from \\[1,2,0,0,4,0\\] (★☆☆) \n",
        "(**hint**: np.nonzero)"
      ]
    },
    {
      "cell_type": "code",
      "execution_count": null,
      "metadata": {
        "id": "AAWpHFvtJfTK",
        "outputId": "5641e2b0-7f9b-4393-d57a-073cb39eb721",
        "colab": {
          "base_uri": "https://localhost:8080/"
        }
      },
      "outputs": [
        {
          "output_type": "execute_result",
          "data": {
            "text/plain": [
              "[[0, 0], [1, 1], [2, 0], [2, 1]]"
            ]
          },
          "metadata": {},
          "execution_count": 5
        }
      ],
      "source": [
        "\n",
        "([[0, 0],\n",
        "       [1, 1],\n",
        "       [2, 0],\n",
        "       [2, 1]])"
      ]
    },
    {
      "cell_type": "markdown",
      "metadata": {
        "id": "RhVKMDQTJfTK"
      },
      "source": [
        "#### 12. Create a 3x3x3 array with random values (★☆☆) \n",
        "(**hint**: np.random.random)"
      ]
    },
    {
      "cell_type": "code",
      "execution_count": null,
      "metadata": {
        "id": "laLAKPQEJfTK",
        "colab": {
          "base_uri": "https://localhost:8080/"
        },
        "outputId": "41bf62db-ce38-4677-a271-a71a3d83deaf"
      },
      "outputs": [
        {
          "output_type": "stream",
          "name": "stdout",
          "text": [
            "[[[0.74945959 0.43643841 0.28559487]\n",
            "  [0.75887792 0.81180116 0.90975618]\n",
            "  [0.21727698 0.96835433 0.95512644]]\n",
            "\n",
            " [[0.95911021 0.19760174 0.44020678]\n",
            "  [0.40127574 0.61951633 0.87505005]\n",
            "  [0.02913214 0.55824692 0.29953479]]\n",
            "\n",
            " [[0.96049285 0.74830985 0.29589807]\n",
            "  [0.98096025 0.17036104 0.43204295]\n",
            "  [0.1587131  0.1454238  0.96848168]]]\n"
          ]
        }
      ],
      "source": [
        "x = np.random.random((3,3,3))\n",
        "print(x)"
      ]
    },
    {
      "cell_type": "markdown",
      "metadata": {
        "id": "JTcK4VufJfTL"
      },
      "source": [
        "#### 13. Create a 10x10 array with random values and find the minimum and maximum values (★☆☆) \n",
        "(**hint**: min, max)"
      ]
    },
    {
      "cell_type": "code",
      "execution_count": null,
      "metadata": {
        "id": "TwAYwMIjJfTL",
        "colab": {
          "base_uri": "https://localhost:8080/"
        },
        "outputId": "2cd8beb1-4718-40e1-d3cc-0f7b9b5ec166"
      },
      "outputs": [
        {
          "output_type": "stream",
          "name": "stdout",
          "text": [
            "Original Array:\n",
            "[[0.26966708 0.00354009 0.52843433 0.44402489 0.15131352]\n",
            " [0.6154055  0.4236056  0.40207632 0.31337184 0.4589868 ]\n",
            " [0.63405994 0.13929167 0.87383144 0.36795094 0.1574202 ]\n",
            " [0.89238447 0.39142082 0.61407212 0.00892462 0.82926674]\n",
            " [0.89603328 0.10217416 0.48333612 0.6928494  0.2424715 ]]\n",
            "Minimum and Maximum Values:\n",
            "0.0035400899570984246 0.8960332753748468\n"
          ]
        }
      ],
      "source": [
        "x = np.random.random((5,5))\n",
        "print(\"Original Array:\")\n",
        "print(x) \n",
        "xmin, xmax = x.min(), x.max()\n",
        "print(\"Minimum and Maximum Values:\")\n",
        "print(xmin, xmax)"
      ]
    },
    {
      "cell_type": "markdown",
      "metadata": {
        "id": "cS9wCvElJfTL"
      },
      "source": [
        "#### 14. Create a random vector of size 30 and find the mean value (★☆☆) \n",
        "(**hint**: mean)"
      ]
    },
    {
      "cell_type": "code",
      "execution_count": null,
      "metadata": {
        "id": "oMKiKHyxJfTM",
        "colab": {
          "base_uri": "https://localhost:8080/"
        },
        "outputId": "08b261d0-d6cc-4c12-fad3-780ac3d2a2cc"
      },
      "outputs": [
        {
          "output_type": "stream",
          "name": "stdout",
          "text": [
            "Original array:\n",
            "[6.32314175e-01 3.78474727e-01 1.00019912e-04 1.90695997e-01\n",
            " 3.70296114e-01 8.94186492e-01 7.83073134e-01 5.13753103e-01\n",
            " 6.07966238e-01 9.28291833e-01]\n",
            "Sorted array:\n",
            "[1.00019912e-04 1.90695997e-01 3.70296114e-01 3.78474727e-01\n",
            " 5.13753103e-01 6.07966238e-01 6.32314175e-01 7.83073134e-01\n",
            " 8.94186492e-01 9.28291833e-01]\n"
          ]
        }
      ],
      "source": [
        "x = np.random.random(10)\n",
        "print(\"Original array:\")\n",
        "print(x)\n",
        "x.sort()\n",
        "print(\"Sorted array:\")\n",
        "print(x)"
      ]
    },
    {
      "cell_type": "markdown",
      "metadata": {
        "id": "h_Z-KVhWJfTM"
      },
      "source": [
        "#### 15. Create a 2d array with 1 on the border and 0 inside (★☆☆) \n",
        "(**hint**: array\\[1:-1, 1:-1\\])"
      ]
    },
    {
      "cell_type": "code",
      "execution_count": null,
      "metadata": {
        "id": "0I7Of6vKJfTM",
        "colab": {
          "base_uri": "https://localhost:8080/"
        },
        "outputId": "6d34512b-2088-4abf-b3ff-038ae4a815ce"
      },
      "outputs": [
        {
          "output_type": "stream",
          "name": "stdout",
          "text": [
            "Original array:\n",
            "[[1. 1. 1. 1. 1.]\n",
            " [1. 1. 1. 1. 1.]\n",
            " [1. 1. 1. 1. 1.]\n",
            " [1. 1. 1. 1. 1.]\n",
            " [1. 1. 1. 1. 1.]]\n",
            "1 on the border and 0 inside in the array\n",
            "[[1. 1. 1. 1. 1.]\n",
            " [1. 0. 0. 0. 1.]\n",
            " [1. 0. 0. 0. 1.]\n",
            " [1. 0. 0. 0. 1.]\n",
            " [1. 1. 1. 1. 1.]]\n"
          ]
        }
      ],
      "source": [
        "x = np.ones((5,5))\n",
        "print(\"Original array:\")\n",
        "print(x)\n",
        "print(\"1 on the border and 0 inside in the array\")\n",
        "x[1:-1,1:-1] = 0\n",
        "print(x)"
      ]
    },
    {
      "cell_type": "markdown",
      "metadata": {
        "id": "bgR2uQ0bJfTM"
      },
      "source": [
        "#### 16. How to add a border (filled with 0's) around an existing array? (★☆☆) \n",
        "(**hint**: np.pad)"
      ]
    },
    {
      "cell_type": "code",
      "execution_count": null,
      "metadata": {
        "id": "HWsXNOIWJfTM",
        "colab": {
          "base_uri": "https://localhost:8080/"
        },
        "outputId": "ffa42475-a0b9-46be-b2a0-b736b87ecf49"
      },
      "outputs": [
        {
          "output_type": "stream",
          "name": "stdout",
          "text": [
            "Original array:\n",
            "[[1. 1. 1.]\n",
            " [1. 1. 1.]\n",
            " [1. 1. 1.]]\n",
            "0 on the border and 1 inside in the array\n",
            "[[0. 0. 0. 0. 0.]\n",
            " [0. 1. 1. 1. 0.]\n",
            " [0. 1. 1. 1. 0.]\n",
            " [0. 1. 1. 1. 0.]\n",
            " [0. 0. 0. 0. 0.]]\n"
          ]
        }
      ],
      "source": [
        "x = np.ones((3,3))\n",
        "print(\"Original array:\")\n",
        "print(x)\n",
        "print(\"0 on the border and 1 inside in the array\")\n",
        "x = np.pad(x, pad_width=1, mode='constant', constant_values=0)\n",
        "print(x)"
      ]
    },
    {
      "cell_type": "markdown",
      "metadata": {
        "id": "-3unUci9JfTN"
      },
      "source": [
        "#### 17. What is the result of the following expression? (★☆☆) \n",
        "(**hint**: NaN = not a number, inf = infinity)"
      ]
    },
    {
      "cell_type": "markdown",
      "metadata": {
        "id": "tTstWSW7JfTN"
      },
      "source": [
        "```python\n",
        "0 * np.nan\n",
        "np.nan == np.nan\n",
        "np.inf > np.nan\n",
        "np.nan - np.nan\n",
        "0.3 == 3 * 0.1\n",
        "```"
      ]
    },
    {
      "cell_type": "code",
      "execution_count": null,
      "metadata": {
        "id": "1WTpTw98JfTN"
      },
      "outputs": [],
      "source": [
        "pos_inf = float('inf')     # positive infinity\n",
        "neg_inf = float('-inf')    # negative infinity\n",
        "not_a_num = float('nan')   # NaN (\"not a number\")"
      ]
    },
    {
      "cell_type": "markdown",
      "metadata": {
        "id": "FvPGzFNPJfTN"
      },
      "source": [
        "#### 18. Create a 5x5 matrix with values 1,2,3,4 just below the diagonal (★☆☆) \n",
        "(**hint**: np.diag)"
      ]
    },
    {
      "cell_type": "code",
      "execution_count": null,
      "metadata": {
        "id": "o5I02aXQJfTO",
        "colab": {
          "base_uri": "https://localhost:8080/"
        },
        "outputId": "5070b16a-3428-4623-9e27-9245fff8f4a7"
      },
      "outputs": [
        {
          "output_type": "stream",
          "name": "stdout",
          "text": [
            "[[1 0 0 0 0]\n",
            " [0 2 0 0 0]\n",
            " [0 0 3 0 0]\n",
            " [0 0 0 4 0]\n",
            " [0 0 0 0 5]]\n"
          ]
        }
      ],
      "source": [
        "import numpy as np\n",
        "x = np.diag([1, 2, 3, 4, 5])\n",
        "print(x)"
      ]
    },
    {
      "cell_type": "markdown",
      "metadata": {
        "id": "QnffPj3FJfTO"
      },
      "source": [
        "#### 19. Create a 8x8 matrix and fill it with a checkerboard pattern (★☆☆) \n",
        "(**hint**: array\\[::2\\])"
      ]
    },
    {
      "cell_type": "code",
      "execution_count": null,
      "metadata": {
        "id": "IYuu0eIKJfTO",
        "colab": {
          "base_uri": "https://localhost:8080/"
        },
        "outputId": "175b9df6-3f00-4b77-fc26-19c8b9341302"
      },
      "outputs": [
        {
          "output_type": "stream",
          "name": "stdout",
          "text": [
            "Checkerboard pattern:\n",
            "[[0 1 0 1 0 1 0 1]\n",
            " [1 0 1 0 1 0 1 0]\n",
            " [0 1 0 1 0 1 0 1]\n",
            " [1 0 1 0 1 0 1 0]\n",
            " [0 1 0 1 0 1 0 1]\n",
            " [1 0 1 0 1 0 1 0]\n",
            " [0 1 0 1 0 1 0 1]\n",
            " [1 0 1 0 1 0 1 0]]\n"
          ]
        }
      ],
      "source": [
        "x = np.ones((3,3))\n",
        "print(\"Checkerboard pattern:\")\n",
        "x = np.zeros((8,8),dtype=int)\n",
        "x[1::2,::2] = 1\n",
        "x[::2,1::2] = 1\n",
        "print(x)\n"
      ]
    },
    {
      "cell_type": "markdown",
      "metadata": {
        "id": "eHuolLh-JfTO"
      },
      "source": [
        "#### 20. Consider a (6,7,8) shape array, what is the index (x,y,z) of the 100th element? \n",
        "(**hint**: np.unravel_index)"
      ]
    },
    {
      "cell_type": "code",
      "execution_count": null,
      "metadata": {
        "id": "v6MqJbimJfTO"
      },
      "outputs": [],
      "source": [
        "# 100 numpy exercises"
      ]
    },
    {
      "cell_type": "markdown",
      "metadata": {
        "id": "yKHFxgczJfTP"
      },
      "source": [
        "#### 21. Create a checkerboard 8x8 matrix using the tile function (★☆☆) \n",
        "(**hint**: np.tile)"
      ]
    },
    {
      "cell_type": "code",
      "execution_count": null,
      "metadata": {
        "id": "fmnLKRQEJfTP",
        "colab": {
          "base_uri": "https://localhost:8080/"
        },
        "outputId": "e5d2e8a6-034c-4d12-d589-674337948af8"
      },
      "outputs": [
        {
          "output_type": "stream",
          "name": "stdout",
          "text": [
            "Checkerboard pattern:\n",
            "[[0 1 0 1 0 1 0 1]\n",
            " [1 0 1 0 1 0 1 0]\n",
            " [0 1 0 1 0 1 0 1]\n",
            " [1 0 1 0 1 0 1 0]\n",
            " [0 1 0 1 0 1 0 1]\n",
            " [1 0 1 0 1 0 1 0]\n",
            " [0 1 0 1 0 1 0 1]\n",
            " [1 0 1 0 1 0 1 0]]\n"
          ]
        }
      ],
      "source": [
        "x = np.ones((3,3))\n",
        "print(\"Checkerboard pattern:\")\n",
        "x = np.zeros((8,8),dtype=int)\n",
        "x[1::2,::2] = 1\n",
        "x[::2,1::2] = 1\n",
        "print(x)"
      ]
    },
    {
      "cell_type": "markdown",
      "metadata": {
        "id": "OSlgzFPKJfTP"
      },
      "source": [
        "#### 22. Normalize a 5x5 random matrix (★☆☆) \n",
        "(**hint**: (x - min) / (max - min))"
      ]
    },
    {
      "cell_type": "code",
      "execution_count": null,
      "metadata": {
        "id": "rG5B-Qh2JfTP",
        "colab": {
          "base_uri": "https://localhost:8080/"
        },
        "outputId": "1b66493d-e6bc-41f0-8dff-aa50911506d6"
      },
      "outputs": [
        {
          "output_type": "stream",
          "name": "stdout",
          "text": [
            "Original Array:\n",
            "[[0.43023449 0.90166943 0.72566837 0.13707582 0.7070538 ]\n",
            " [0.86888546 0.37105518 0.50589123 0.47450688 0.06511828]\n",
            " [0.70531462 0.71621738 0.4721552  0.58598439 0.08873588]\n",
            " [0.02774574 0.53598336 0.7850886  0.71361543 0.58004894]\n",
            " [0.33926703 0.3186874  0.52308825 0.39400315 0.27760145]]\n",
            "Minimum and Maximum Values:\n",
            "0.027745743534366096 0.901669426268798\n"
          ]
        }
      ],
      "source": [
        "x = np.random.random((5,5))\n",
        "print(\"Original Array:\")\n",
        "print(x) \n",
        "xmin, xmax = x.min(), x.max()\n",
        "print(\"Minimum and Maximum Values:\")\n",
        "print(xmin, xmax)"
      ]
    },
    {
      "cell_type": "markdown",
      "metadata": {
        "id": "VLjojEYxJfTP"
      },
      "source": [
        "#### 23. Create a custom dtype that describes a color as four unsigned bytes (RGBA) (★☆☆) \n",
        "(**hint**: np.dtype)"
      ]
    },
    {
      "cell_type": "code",
      "execution_count": null,
      "metadata": {
        "collapsed": true,
        "id": "ekd7EIRAJfTP",
        "colab": {
          "base_uri": "https://localhost:8080/"
        },
        "outputId": "2b9b4eef-b7f8-4060-e771-5302b596e40f"
      },
      "outputs": [
        {
          "output_type": "stream",
          "name": "stdout",
          "text": [
            "1.21.6\n",
            "blas_mkl_info:\n",
            "  NOT AVAILABLE\n",
            "blis_info:\n",
            "  NOT AVAILABLE\n",
            "openblas_info:\n",
            "    libraries = ['openblas', 'openblas']\n",
            "    library_dirs = ['/usr/local/lib']\n",
            "    language = c\n",
            "    define_macros = [('HAVE_CBLAS', None)]\n",
            "    runtime_library_dirs = ['/usr/local/lib']\n",
            "blas_opt_info:\n",
            "    libraries = ['openblas', 'openblas']\n",
            "    library_dirs = ['/usr/local/lib']\n",
            "    language = c\n",
            "    define_macros = [('HAVE_CBLAS', None)]\n",
            "    runtime_library_dirs = ['/usr/local/lib']\n",
            "lapack_mkl_info:\n",
            "  NOT AVAILABLE\n",
            "openblas_lapack_info:\n",
            "    libraries = ['openblas', 'openblas']\n",
            "    library_dirs = ['/usr/local/lib']\n",
            "    language = c\n",
            "    define_macros = [('HAVE_CBLAS', None)]\n",
            "    runtime_library_dirs = ['/usr/local/lib']\n",
            "lapack_opt_info:\n",
            "    libraries = ['openblas', 'openblas']\n",
            "    library_dirs = ['/usr/local/lib']\n",
            "    language = c\n",
            "    define_macros = [('HAVE_CBLAS', None)]\n",
            "    runtime_library_dirs = ['/usr/local/lib']\n",
            "Supported SIMD extensions in this NumPy install:\n",
            "    baseline = SSE,SSE2,SSE3\n",
            "    found = SSSE3,SSE41,POPCNT,SSE42,AVX,F16C,FMA3,AVX2\n",
            "    not found = AVX512F,AVX512CD,AVX512_KNL,AVX512_KNM,AVX512_SKX,AVX512_CLX,AVX512_CNL,AVX512_ICL\n"
          ]
        }
      ],
      "source": [
        "print(np.__version__)\n",
        "np.show_config()"
      ]
    },
    {
      "cell_type": "markdown",
      "metadata": {
        "id": "5zFk9N0hJfTP"
      },
      "source": [
        "#### 24. Multiply a 5x3 matrix by a 3x2 matrix (real matrix product) (★☆☆) \n",
        "(**hint**: np.dot | @)"
      ]
    },
    {
      "cell_type": "code",
      "execution_count": null,
      "metadata": {
        "id": "xfL0oi07JfTQ",
        "colab": {
          "base_uri": "https://localhost:8080/"
        },
        "outputId": "3552bcb2-0104-4fc8-df5f-f01f7ca3b39b"
      },
      "outputs": [
        {
          "output_type": "stream",
          "name": "stdout",
          "text": [
            "First array:\n",
            "[[0.77283673 0.06815941 0.96733371]\n",
            " [0.53955615 0.35933896 0.24371703]\n",
            " [0.91172578 0.58498549 0.61962199]\n",
            " [0.78577741 0.37739338 0.82635955]\n",
            " [0.20403152 0.02658352 0.1315665 ]]\n",
            "Second array:\n",
            "[[0.74678358 0.93291507]\n",
            " [0.72482386 0.46275269]\n",
            " [0.76063887 0.56933694]]\n",
            "Dot product of two arrays:\n",
            "[[1.36233697 1.3032708 ]\n",
            " [0.84876977 0.80840224]\n",
            " [1.57618186 1.47404001]\n",
            " [1.48891058 1.3781804 ]\n",
            " [0.27171035 0.27755134]]\n"
          ]
        }
      ],
      "source": [
        "x = np.random.random((5,3))\n",
        "print(\"First array:\")\n",
        "print(x)\n",
        "y = np.random.random((3,2))\n",
        "print(\"Second array:\")\n",
        "print(y)\n",
        "z = np.dot(x, y)\n",
        "print(\"Dot product of two arrays:\")\n",
        "print(z)\n"
      ]
    },
    {
      "cell_type": "markdown",
      "metadata": {
        "id": "42d9KfanJfTQ"
      },
      "source": [
        "#### 25. Given a 1D array, negate all elements which are between 3 and 8, in place. (★☆☆) \n",
        "(**hint**: >, <=)"
      ]
    },
    {
      "cell_type": "code",
      "execution_count": null,
      "metadata": {
        "id": "bk4tFBv0JfTQ",
        "colab": {
          "base_uri": "https://localhost:8080/"
        },
        "outputId": "79f7d49a-85aa-4491-c8c6-838856a63d7c"
      },
      "outputs": [
        {
          "output_type": "execute_result",
          "data": {
            "text/plain": [
              "array([ 0,  1,  2,  3,  4,  5,  6,  7,  8,  9, 10])"
            ]
          },
          "metadata": {},
          "execution_count": 18
        }
      ],
      "source": [
        "arr=np.arange(11)\n",
        "arr"
      ]
    },
    {
      "cell_type": "markdown",
      "metadata": {
        "id": "HDmLBzAPJfTQ"
      },
      "source": [
        "#### 26. What is the output of the following script? (★☆☆) \n",
        "(**hint**: np.sum)"
      ]
    },
    {
      "cell_type": "markdown",
      "metadata": {
        "id": "lhRNkySUJfTQ"
      },
      "source": [
        "```python\n",
        "# Author: Jake VanderPlas\n",
        "\n",
        "print(sum(range(5),-1))\n",
        "from numpy import *\n",
        "print(sum(range(5),-1))\n",
        "```"
      ]
    },
    {
      "cell_type": "code",
      "execution_count": null,
      "metadata": {
        "id": "QDEWAYRGJfTQ",
        "colab": {
          "base_uri": "https://localhost:8080/"
        },
        "outputId": "d1f77776-5cbe-4e99-ba07-9adb20f0ea95"
      },
      "outputs": [
        {
          "output_type": "stream",
          "name": "stdout",
          "text": [
            "9\n",
            "10\n"
          ]
        }
      ],
      "source": [
        "print(sum(range(5),-1))\n",
        "from numpy import *\n",
        "print(sum(range(5),-1))"
      ]
    },
    {
      "cell_type": "markdown",
      "metadata": {
        "id": "rpor_oJyJfTQ"
      },
      "source": [
        "**bold text**#### 27. Consider an integer vector Z, which of these expressions are legal? (★☆☆)"
      ]
    },
    {
      "cell_type": "markdown",
      "metadata": {
        "id": "HVoWCWNYJfTR"
      },
      "source": [
        "#### 28. What are the result of the following expressions?"
      ]
    },
    {
      "cell_type": "markdown",
      "metadata": {
        "id": "A_4aUpg2JfTR"
      },
      "source": [
        "```python\n",
        "np.array(0) / np.array(0)\n",
        "np.array(0) // np.array(0)\n",
        "np.array([np.nan]).astype(int).astype(float)\n",
        "```"
      ]
    },
    {
      "cell_type": "code",
      "execution_count": null,
      "metadata": {
        "id": "ImSm9XcYJfTR",
        "colab": {
          "base_uri": "https://localhost:8080/"
        },
        "outputId": "9ee6abe1-8010-4331-f140-1be576d7e83f"
      },
      "outputs": [
        {
          "output_type": "stream",
          "name": "stderr",
          "text": [
            "/usr/local/lib/python3.7/dist-packages/ipykernel_launcher.py:1: RuntimeWarning: invalid value encountered in true_divide\n",
            "  \"\"\"Entry point for launching an IPython kernel.\n",
            "/usr/local/lib/python3.7/dist-packages/ipykernel_launcher.py:2: RuntimeWarning: divide by zero encountered in floor_divide\n",
            "  \n"
          ]
        },
        {
          "output_type": "execute_result",
          "data": {
            "text/plain": [
              "array([-9.22337204e+18])"
            ]
          },
          "metadata": {},
          "execution_count": 20
        }
      ],
      "source": [
        "np.array(0) / np.array(0)\n",
        "np.array(0) // np.array(0)\n",
        "np.array([np.nan]).astype(int).astype(float)"
      ]
    },
    {
      "cell_type": "code",
      "execution_count": null,
      "metadata": {
        "id": "eQdGBPGPJfTR"
      },
      "outputs": [],
      "source": [
        "import numpy as np"
      ]
    },
    {
      "cell_type": "markdown",
      "metadata": {
        "id": "HXHg0xe1JfTR"
      },
      "source": [
        "#### 29. How to round away from zero a float array ? (★☆☆) \n",
        "(**hint**: np.uniform, np.copysign, np.ceil, np.abs)"
      ]
    },
    {
      "cell_type": "markdown",
      "metadata": {
        "id": "0zRpB6f-JfTR"
      },
      "source": [
        "#### 31. How to ignore all numpy warnings (not recommended)? (★☆☆) \n",
        "(**hint**: np.seterr, np.errstate)"
      ]
    },
    {
      "cell_type": "markdown",
      "metadata": {
        "id": "A0It-t6yJfTS"
      },
      "source": [
        "#### 32. Is the following expressions true? (★☆☆) \n",
        "(**hint**: imaginary number)"
      ]
    },
    {
      "cell_type": "code",
      "execution_count": null,
      "metadata": {
        "id": "L3jvaYvVJfTR",
        "colab": {
          "base_uri": "https://localhost:8080/"
        },
        "outputId": "3bbb7544-f61b-4345-cf9d-e40649bf85f6"
      },
      "outputs": [
        {
          "output_type": "stream",
          "name": "stdout",
          "text": [
            "[1 3 4]\n"
          ]
        }
      ],
      "source": [
        "ar1 = np.array([0, 1, 2, 3, 4])\n",
        "ar2 = [1, 3, 4]\n",
        "  \n",
        "# Common values between two arrays\n",
        "print(np.intersect1d(ar1, ar2))"
      ]
    },
    {
      "cell_type": "code",
      "execution_count": null,
      "metadata": {
        "id": "QITrB__0JfTS"
      },
      "outputs": [],
      "source": [
        "data = np.random.random(1000).reshape(10, 10,10) * np.nan"
      ]
    },
    {
      "cell_type": "markdown",
      "metadata": {
        "id": "lM44tSKiJfTS"
      },
      "source": []
    },
    {
      "cell_type": "markdown",
      "metadata": {
        "id": "dutGqEqAJfTS"
      },
      "source": [
        "#### 33. How to get the dates of yesterday, today and tomorrow? (★☆☆) \n",
        "(**hint**: np.datetime64, np.timedelta64)"
      ]
    },
    {
      "cell_type": "code",
      "execution_count": null,
      "metadata": {
        "collapsed": true,
        "id": "sMcaQZpCJfTS",
        "colab": {
          "base_uri": "https://localhost:8080/"
        },
        "outputId": "e4cab07c-ef13-4723-f1bb-909d9f439a6e"
      },
      "outputs": [
        {
          "output_type": "stream",
          "name": "stdout",
          "text": [
            "Yestraday:  2022-11-25\n",
            "Today:  2022-11-26\n",
            "Tomorrow:  2022-11-27\n"
          ]
        }
      ],
      "source": [
        "import numpy as np\n",
        "yesterday = np.datetime64('today', 'D') - np.timedelta64(1, 'D')\n",
        "print(\"Yestraday: \",yesterday)\n",
        "today     = np.datetime64('today', 'D')\n",
        "print(\"Today: \",today)\n",
        "tomorrow  = np.datetime64('today', 'D') + np.timedelta64(1, 'D')\n",
        "print(\"Tomorrow: \",tomorrow)"
      ]
    },
    {
      "cell_type": "markdown",
      "metadata": {
        "id": "wDw5BUceJfTS"
      },
      "source": [
        "#### 34. How to get all the dates corresponding to the month of July 2016? (★★☆) \n",
        "(**hint**: np.arange(dtype=datetime64\\['D'\\]))"
      ]
    },
    {
      "cell_type": "code",
      "execution_count": null,
      "metadata": {
        "id": "VTj9Qr0vJfTS",
        "colab": {
          "base_uri": "https://localhost:8080/"
        },
        "outputId": "6121026a-285f-47da-fda9-bb04f9933926"
      },
      "outputs": [
        {
          "output_type": "stream",
          "name": "stdout",
          "text": [
            "March, 2017\n",
            "['2017-03-01' '2017-03-02' '2017-03-03' '2017-03-04' '2017-03-05'\n",
            " '2017-03-06' '2017-03-07' '2017-03-08' '2017-03-09' '2017-03-10'\n",
            " '2017-03-11' '2017-03-12' '2017-03-13' '2017-03-14' '2017-03-15'\n",
            " '2017-03-16' '2017-03-17' '2017-03-18' '2017-03-19' '2017-03-20'\n",
            " '2017-03-21' '2017-03-22' '2017-03-23' '2017-03-24' '2017-03-25'\n",
            " '2017-03-26' '2017-03-27' '2017-03-28' '2017-03-29' '2017-03-30'\n",
            " '2017-03-31']\n"
          ]
        }
      ],
      "source": [
        "import numpy as np\n",
        "print(\"March, 2017\")\n",
        "print(np.arange('2017-03', '2017-04', dtype='datetime64[D]'))"
      ]
    },
    {
      "cell_type": "markdown",
      "metadata": {
        "id": "DmRdbiAcJfTT"
      },
      "source": [
        "#### 35. How to compute ((A+B)\\*(-A/2)) in place (without copy)? (★★☆) \n",
        "(**hint**: np.add(out=), np.negative(out=), np.multiply(out=), np.divide(out=))"
      ]
    },
    {
      "cell_type": "code",
      "source": [
        "(1, 1)\n",
        "[[-2.07917628]]\n",
        "(1, 1)\n",
        "[[ 0.693058761039 ]]"
      ],
      "metadata": {
        "colab": {
          "base_uri": "https://localhost:8080/"
        },
        "id": "Kj1Klhxrc1Wt",
        "outputId": "39da1036-d84b-479c-e9fd-9a100e211911"
      },
      "execution_count": null,
      "outputs": [
        {
          "output_type": "execute_result",
          "data": {
            "text/plain": [
              "[[0.693058761039]]"
            ]
          },
          "metadata": {},
          "execution_count": 14
        }
      ]
    },
    {
      "cell_type": "markdown",
      "metadata": {
        "id": "6RAJmG2uJfTT"
      },
      "source": [
        "#### 36. Extract the integer part of a random array using 5 different methods (★★☆) \n",
        "(**hint**: %, np.floor, np.ceil, astype, np.trunc)"
      ]
    },
    {
      "cell_type": "code",
      "execution_count": null,
      "metadata": {
        "id": "kKR9mx4YJfTT",
        "colab": {
          "base_uri": "https://localhost:8080/"
        },
        "outputId": "8e26c736-344e-4b44-9a63-0593b3445abc"
      },
      "outputs": [
        {
          "output_type": "stream",
          "name": "stdout",
          "text": [
            "10\n",
            "10\n"
          ]
        }
      ],
      "source": [
        "print(sum(range(5),-1))\n",
        "from numpy import *\n",
        "print(sum(range(5),-1))"
      ]
    },
    {
      "cell_type": "markdown",
      "source": [],
      "metadata": {
        "id": "YAYAGUbRclmA"
      }
    },
    {
      "cell_type": "markdown",
      "metadata": {
        "id": "OF1Dd0zKJfTT"
      },
      "source": [
        "#### 37. Create a 5x5 matrix with row values ranging from 0 to 4 (★★☆) \n",
        "(**hint**: np.arange)"
      ]
    },
    {
      "cell_type": "code",
      "execution_count": null,
      "metadata": {
        "id": "g_UVIZ5TJfTT",
        "colab": {
          "base_uri": "https://localhost:8080/"
        },
        "outputId": "fb27a21e-c448-4a7d-8bd7-84ed05f3c440"
      },
      "outputs": [
        {
          "output_type": "stream",
          "name": "stdout",
          "text": [
            "Original array:\n",
            "[[0. 0. 0. 0. 0.]\n",
            " [0. 0. 0. 0. 0.]\n",
            " [0. 0. 0. 0. 0.]\n",
            " [0. 0. 0. 0. 0.]\n",
            " [0. 0. 0. 0. 0.]]\n",
            "Row values ranging from 0 to 4.\n",
            "[[0. 1. 2. 3. 4.]\n",
            " [0. 1. 2. 3. 4.]\n",
            " [0. 1. 2. 3. 4.]\n",
            " [0. 1. 2. 3. 4.]\n",
            " [0. 1. 2. 3. 4.]]\n"
          ]
        }
      ],
      "source": [
        "import numpy as np\n",
        "x = np.zeros((5,5))\n",
        "print(\"Original array:\")\n",
        "print(x)\n",
        "print(\"Row values ranging from 0 to 4.\")\n",
        "x += np.arange(5)\n",
        "print(x)\n",
        "# 100 numpy exercises\n"
      ]
    },
    {
      "cell_type": "markdown",
      "metadata": {
        "id": "bjyMJVEDJfTT"
      },
      "source": [
        "#### 38. Consider a generator function that generates 10 integers and use it to build an array (★☆☆) \n",
        "(**hint**: np.fromiter)"
      ]
    },
    {
      "cell_type": "code",
      "execution_count": null,
      "metadata": {
        "id": "3XiXZxGuJfTU",
        "colab": {
          "base_uri": "https://localhost:8080/"
        },
        "outputId": "26a336c3-9a34-4e5b-e22b-8f7bde1350bc"
      },
      "outputs": [
        {
          "output_type": "stream",
          "name": "stdout",
          "text": [
            "New array:\n",
            "[ 0.  1.  2.  3.  4.  5.  6.  7.  8.  9. 10. 11. 12. 13. 14.]\n"
          ]
        }
      ],
      "source": [
        "import numpy as np\n",
        "def generate():\n",
        "   for n in range(15):\n",
        "       yield n\n",
        "nums = np.fromiter(generate(),dtype=float,count=-1)\n",
        "print(\"New array:\")\n",
        "print(nums)"
      ]
    },
    {
      "cell_type": "markdown",
      "metadata": {
        "id": "AdNwdJWzJfTU"
      },
      "source": [
        "#### 39. Create a vector of size 10 with values ranging from 0 to 1, both excluded (★★☆) \n",
        "(**hint**: np.linspace)"
      ]
    },
    {
      "cell_type": "code",
      "execution_count": null,
      "metadata": {
        "id": "Fjnwl-MIJfTU",
        "colab": {
          "base_uri": "https://localhost:8080/"
        },
        "outputId": "28b46c0e-35d4-491c-93ef-2325732d28f5"
      },
      "outputs": [
        {
          "output_type": "stream",
          "name": "stdout",
          "text": [
            "[0.09090909 0.18181818 0.27272727 0.36363636 0.45454545 0.54545455\n",
            " 0.63636364 0.72727273 0.81818182 0.90909091]\n"
          ]
        }
      ],
      "source": [
        "import numpy as np\n",
        "x = np.linspace(0,1,12,endpoint=True)[1:-1]\n",
        "print(x)"
      ]
    },
    {
      "cell_type": "markdown",
      "metadata": {
        "id": "dREmnrj2JfTU"
      },
      "source": [
        "#### 40. Create a random vector of size 10 and sort it (★★☆) \n",
        "(**hint**: sort)"
      ]
    },
    {
      "cell_type": "code",
      "execution_count": null,
      "metadata": {
        "id": "j__B0CtgJfTU",
        "colab": {
          "base_uri": "https://localhost:8080/"
        },
        "outputId": "962c4bab-40dd-416f-9ec5-48c4f349bbf3"
      },
      "outputs": [
        {
          "output_type": "stream",
          "name": "stdout",
          "text": [
            "Original array:\n",
            "[0.90421451 0.49080059 0.86886955 0.95016433 0.64223212 0.46872268\n",
            " 0.46768007 0.58630831 0.14762082 0.62096169]\n",
            "Sorted array:\n",
            "[0.14762082 0.46768007 0.46872268 0.49080059 0.58630831 0.62096169\n",
            " 0.64223212 0.86886955 0.90421451 0.95016433]\n"
          ]
        }
      ],
      "source": [
        "import numpy as np\n",
        "x = np.random.random(10)\n",
        "print(\"Original array:\")\n",
        "print(x)\n",
        "x.sort()\n",
        "print(\"Sorted array:\")\n",
        "print(x)"
      ]
    },
    {
      "cell_type": "markdown",
      "metadata": {
        "id": "QOjdCwLBJfTU"
      },
      "source": [
        "#### 41. How to sum a small array faster than np.sum? (★★☆) \n",
        "(**hint**: np.add.reduce)"
      ]
    },
    {
      "cell_type": "code",
      "execution_count": null,
      "metadata": {
        "id": "4oTuIjKjJfTU",
        "colab": {
          "base_uri": "https://localhost:8080/"
        },
        "outputId": "291ca417-5474-494d-e24a-025da94ff9d4"
      },
      "outputs": [
        {
          "output_type": "stream",
          "name": "stdout",
          "text": [
            "Sum function result = 17\n",
            "Sum with add.reduce = 17\n"
          ]
        }
      ],
      "source": [
        "a = np.array([[1,4,6],[3,1,2]])\n",
        "print('Sum function result =', np.sum(a))\n",
        "\n",
        "# faster for small array - \n",
        "# print(np.add.reduce(a))\n",
        "\n",
        "# but the only reduces dimension by 1. So do this repeatedly. I create a copy of x since I keep reducing it:\n",
        "x = np.copy(a)\n",
        "while x.size > 1:\n",
        "    x = np.add.reduce(x)\n",
        "\n",
        "print('Sum with add.reduce =', x)"
      ]
    },
    {
      "cell_type": "markdown",
      "metadata": {
        "id": "OdUfQA4QJfTU"
      },
      "source": [
        "#### 42. Consider two random array A and B, check if they are equal (★★☆) \n",
        "(**hint**: np.allclose, np.array\\_equal)"
      ]
    },
    {
      "cell_type": "code",
      "execution_count": null,
      "metadata": {
        "id": "Epsc3guVJfTV"
      },
      "outputs": [],
      "source": [
        "# 100 numpy exercises\n"
      ]
    },
    {
      "cell_type": "markdown",
      "metadata": {
        "id": "vD8wVy3qJfTV"
      },
      "source": [
        "#### 43. Make an array immutable (read-only) (★★☆) \n",
        "(**hint**: flags.writeable)"
      ]
    },
    {
      "cell_type": "code",
      "execution_count": null,
      "metadata": {
        "id": "2hp-wb01JfTV",
        "colab": {
          "base_uri": "https://localhost:8080/"
        },
        "outputId": "8fdbcdd3-b894-4daf-c4f6-7cc2064cbb46"
      },
      "outputs": [
        {
          "output_type": "stream",
          "name": "stdout",
          "text": [
            "Test the array is read-only or not:\n",
            "Try to change the value of the first element:\n"
          ]
        }
      ],
      "source": [
        "import numpy as np\n",
        "x = np.zeros(10)\n",
        "x.flags.writeable = False\n",
        "print(\"Test the array is read-only or not:\")\n",
        "print(\"Try to change the value of the first element:\")\n"
      ]
    },
    {
      "cell_type": "markdown",
      "metadata": {
        "id": "AH7jx5VtJfTV"
      },
      "source": [
        "#### 44. Consider a random 10x2 matrix representing cartesian coordinates, convert them to polar coordinates (★★☆) \n",
        "(**hint**: np.sqrt, np.arctan2)"
      ]
    },
    {
      "cell_type": "code",
      "execution_count": null,
      "metadata": {
        "id": "04fpxTcjJfTV",
        "colab": {
          "base_uri": "https://localhost:8080/"
        },
        "outputId": "98cf1a18-ca8b-4079-9b4f-f366ca6ad757"
      },
      "outputs": [
        {
          "output_type": "stream",
          "name": "stdout",
          "text": [
            "[0.88615244 1.09318324 1.13028968 0.42227941 0.97239621 0.27845653\n",
            " 0.37874807 0.94961838 0.97518533 0.87498717]\n",
            "[0.18770795 0.55905561 0.85184333 1.25005342 0.17222852 0.03327844\n",
            " 0.54280215 0.9930534  1.04489776 1.21409474]\n"
          ]
        }
      ],
      "source": [
        "import numpy as np\n",
        "z= np.random.random((10,2))\n",
        "x,y = z[:,0], z[:,1]\n",
        "r = np.sqrt(x**2+y**2)\n",
        "t = np.arctan2(y,x)\n",
        "print(r)\n",
        "print(t)"
      ]
    },
    {
      "cell_type": "markdown",
      "metadata": {
        "id": "d9DgtDA8JfTV"
      },
      "source": [
        "#### 45. Create random vector of size 10 and replace the maximum value by 0 (★★☆) \n",
        "(**hint**: argmax)"
      ]
    },
    {
      "cell_type": "code",
      "execution_count": null,
      "metadata": {
        "id": "0-B44UMiJfTV",
        "colab": {
          "base_uri": "https://localhost:8080/"
        },
        "outputId": "3176a1ec-0843-4959-d3c2-184b24f78b25"
      },
      "outputs": [
        {
          "output_type": "stream",
          "name": "stdout",
          "text": [
            "Original array:\n",
            "[3.30436009e-01 7.06575147e-01 3.13047067e-01 8.02788142e-02\n",
            " 4.99333586e-01 9.18415004e-01 5.96838473e-01 4.34634785e-04\n",
            " 7.11621366e-01 9.80597841e-01 6.44668089e-01 6.81692425e-02\n",
            " 7.94368755e-02 9.74302219e-02 2.69338274e-01]\n",
            "Maximum value replaced by -1:\n",
            "[ 3.30436009e-01  7.06575147e-01  3.13047067e-01  8.02788142e-02\n",
            "  4.99333586e-01  9.18415004e-01  5.96838473e-01  4.34634785e-04\n",
            "  7.11621366e-01 -1.00000000e+00  6.44668089e-01  6.81692425e-02\n",
            "  7.94368755e-02  9.74302219e-02  2.69338274e-01]\n"
          ]
        }
      ],
      "source": [
        "import numpy as np\n",
        "x = np.random.random(15)\n",
        "print(\"Original array:\")\n",
        "print(x)\n",
        "x[x.argmax()] = -1\n",
        "print(\"Maximum value replaced by -1:\")\n",
        "print(x)"
      ]
    },
    {
      "cell_type": "markdown",
      "metadata": {
        "id": "JIEZw6HZJfTV"
      },
      "source": [
        "#### 46. Create a structured array with `x` and `y` coordinates covering the \\[0,1\\]x\\[0,1\\] area (★★☆) \n",
        "(**hint**: np.meshgrid)"
      ]
    },
    {
      "cell_type": "code",
      "execution_count": null,
      "metadata": {
        "id": "lF1pxDzLJfTW"
      },
      "outputs": [],
      "source": [
        "# 100 numpy exercises\n"
      ]
    },
    {
      "cell_type": "markdown",
      "metadata": {
        "id": "Oqx6B03qJfTW"
      },
      "source": [
        "####  47. Given two arrays, X and Y, construct the Cauchy matrix C (Cij =1/(xi - yj)) \n",
        "(**hint**: np.subtract.outer)"
      ]
    },
    {
      "cell_type": "code",
      "execution_count": null,
      "metadata": {
        "id": "87bDXQFfJfTW"
      },
      "outputs": [],
      "source": [
        "# 100 numpy exercises"
      ]
    },
    {
      "cell_type": "markdown",
      "metadata": {
        "id": "F2N13YOnJfTW"
      },
      "source": [
        "#### 48. Print the minimum and maximum representable value for each numpy scalar type (★★☆) \n",
        "(**hint**: np.iinfo, np.finfo, eps)"
      ]
    },
    {
      "cell_type": "code",
      "execution_count": null,
      "metadata": {
        "id": "4f__CsY9JfTW"
      },
      "outputs": [],
      "source": [
        "# 100 numpy exercises\n"
      ]
    },
    {
      "cell_type": "markdown",
      "metadata": {
        "id": "EKEUFSvsJfTW"
      },
      "source": [
        "#### 49. How to print all the values of an array? (★★☆) \n",
        "(**hint**: np.set\\_printoptions)"
      ]
    },
    {
      "cell_type": "code",
      "execution_count": null,
      "metadata": {
        "id": "N6Kj9_GyJfTW",
        "colab": {
          "base_uri": "https://localhost:8080/"
        },
        "outputId": "bcc9b206-ff74-4c02-a00d-0a862a697386"
      },
      "outputs": [
        {
          "output_type": "stream",
          "name": "stdout",
          "text": [
            "[[0. 0. 0. 0.]\n",
            " [0. 0. 0. 0.]\n",
            " [0. 0. 0. 0.]\n",
            " [0. 0. 0. 0.]]\n"
          ]
        }
      ],
      "source": [
        "\n",
        "x = np.zeros((4, 4))\n",
        "print(x)"
      ]
    },
    {
      "cell_type": "markdown",
      "metadata": {
        "id": "BG7LzCG7JfTW"
      },
      "source": [
        "#### 50. How to find the closest value (to a given scalar) in a vector? (★★☆) \n",
        "(**hint**: argmin)"
      ]
    },
    {
      "cell_type": "code",
      "execution_count": null,
      "metadata": {
        "id": "Go9n81yIJfTW"
      },
      "outputs": [],
      "source": [
        "import numpy as np\n",
        "\n"
      ]
    },
    {
      "cell_type": "markdown",
      "metadata": {
        "id": "ZsyX5DywJfTW"
      },
      "source": [
        "#### 51. Create a structured array representing a position (x,y) and a color (r,g,b) (★★☆) \n",
        "(**hint**: dtype)"
      ]
    },
    {
      "cell_type": "code",
      "execution_count": null,
      "metadata": {
        "id": "cZHTFq84JfTX",
        "colab": {
          "base_uri": "https://localhost:8080/"
        },
        "outputId": "2d2146e3-8202-44d2-9796-b69040b915be"
      },
      "outputs": [
        {
          "output_type": "execute_result",
          "data": {
            "text/plain": [
              "11.7"
            ]
          },
          "metadata": {},
          "execution_count": 35
        }
      ],
      "source": [
        "11.7"
      ]
    },
    {
      "cell_type": "markdown",
      "metadata": {
        "id": "o5A4LqKrJfTX"
      },
      "source": [
        "#### 52. Consider a random vector with shape (100,2) representing coordinates, find point by point distances (★★☆) \n",
        "(**hint**: np.atleast\\_2d, T, np.sqrt)"
      ]
    },
    {
      "cell_type": "code",
      "execution_count": null,
      "metadata": {
        "id": "hRA05hvIJfTX",
        "colab": {
          "base_uri": "https://localhost:8080/"
        },
        "outputId": "e53e3be1-b7fb-48d0-957d-aeee84eb7ee1"
      },
      "outputs": [
        {
          "output_type": "stream",
          "name": "stdout",
          "text": [
            "[[0.         0.67334421 0.95490108 0.30244235 0.33013508 0.68473444\n",
            "  0.4582712  0.72827261 0.28573134 0.53112004]\n",
            " [0.67334421 0.         0.85893092 0.8327849  0.37981033 1.0269986\n",
            "  0.59425123 1.20368881 0.43619506 0.14223129]\n",
            " [0.95490108 0.85893092 0.         1.25521813 0.95840188 0.58543591\n",
            "  0.49675792 0.8337807  0.98307282 0.834798  ]\n",
            " [0.30244235 0.8327849  1.25521813 0.         0.45368177 0.95928207\n",
            "  0.75857851 0.95219688 0.3977215  0.70109651]\n",
            " [0.33013508 0.37981033 0.95840188 0.45368177 0.         0.88937832\n",
            "  0.51461405 0.9988529  0.05641748 0.24809902]\n",
            " [0.68473444 1.0269986  0.58543591 0.95928207 0.88937832 0.\n",
            "  0.43280576 0.24966761 0.87911058 0.92397454]\n",
            " [0.4582712  0.59425123 0.49675792 0.75857851 0.51461405 0.43280576\n",
            "  0.         0.62572778 0.52365796 0.49635262]\n",
            " [0.72827261 1.20368881 0.8337807  0.95219688 0.9988529  0.24966761\n",
            "  0.62572778 0.         0.97548425 1.08522097]\n",
            " [0.28573134 0.43619506 0.98307282 0.3977215  0.05641748 0.87911058\n",
            "  0.52365796 0.97548425 0.         0.30348937]\n",
            " [0.53112004 0.14223129 0.834798   0.70109651 0.24809902 0.92397454\n",
            "  0.49635262 1.08522097 0.30348937 0.        ]]\n"
          ]
        }
      ],
      "source": [
        "import numpy as np\n",
        "a= np.random.random((10,2))\n",
        "x,y = np.atleast_2d(a[:,0], a[:,1])\n",
        "d = np.sqrt( (x-x.T)**2 + (y-y.T)**2)\n",
        "print(d)"
      ]
    },
    {
      "cell_type": "markdown",
      "metadata": {
        "id": "EsVUi3anJfTX"
      },
      "source": [
        "#### 53. How to convert a float (32 bits) array into an integer (32 bits) in place? \n",
        "(**hint**: astype(copy=False))"
      ]
    },
    {
      "cell_type": "code",
      "execution_count": null,
      "metadata": {
        "id": "qXJhMWBtJfTX",
        "colab": {
          "base_uri": "https://localhost:8080/"
        },
        "outputId": "158bbfc9-517b-4b0f-9c9b-923681d9d9bd"
      },
      "outputs": [
        {
          "output_type": "stream",
          "name": "stdout",
          "text": [
            "[0. 1. 2. 3. 4. 5. 6. 7. 8. 9.]\n"
          ]
        }
      ],
      "source": [
        "import numpy as np\n",
        "x = np.arange(10, dtype='int32')\n",
        "y = x.view('float32')\n",
        "y[:] = x\n",
        "\n",
        "print(y)"
      ]
    },
    {
      "cell_type": "markdown",
      "metadata": {
        "id": "3vqb-FlZJfTX"
      },
      "source": [
        "#### 54. How to read the following file? (★★☆) \n",
        "(**hint**: np.genfromtxt)"
      ]
    },
    {
      "cell_type": "code",
      "execution_count": null,
      "metadata": {
        "id": "fxkkobYQJfTY",
        "colab": {
          "base_uri": "https://localhost:8080/",
          "height": 252
        },
        "outputId": "f8def6ee-9e72-4e45-a6bc-96a4fae40b72"
      },
      "outputs": [
        {
          "output_type": "stream",
          "name": "stderr",
          "text": [
            "<>:1: SyntaxWarning: list indices must be integers or slices, not tuple; perhaps you missed a comma?\n",
            "<>:1: SyntaxWarning: list indices must be integers or slices, not tuple; perhaps you missed a comma?\n",
            "<ipython-input-4-8f6592a4dbd5>:1: SyntaxWarning: list indices must be integers or slices, not tuple; perhaps you missed a comma?\n",
            "  array([[1.,  2.,  3.]\n"
          ]
        },
        {
          "output_type": "error",
          "ename": "NameError",
          "evalue": "ignored",
          "traceback": [
            "\u001b[0;31m---------------------------------------------------------------------------\u001b[0m",
            "\u001b[0;31mNameError\u001b[0m                                 Traceback (most recent call last)",
            "\u001b[0;32m<ipython-input-4-8f6592a4dbd5>\u001b[0m in \u001b[0;36m<module>\u001b[0;34m\u001b[0m\n\u001b[0;32m----> 1\u001b[0;31m array([[1.,  2.,  3.]\n\u001b[0m\u001b[1;32m      2\u001b[0m        [4.,  5.,  6.]])\n",
            "\u001b[0;31mNameError\u001b[0m: name 'array' is not defined"
          ]
        }
      ],
      "source": [
        "array([[1.,  2.,  3.]\n",
        "       [4.,  5.,  6.]])"
      ]
    },
    {
      "cell_type": "markdown",
      "metadata": {
        "id": "OhzCZ2KrJfTY"
      },
      "source": [
        "#### 55. What is the equivalent of enumerate for numpy arrays? (★★☆) \n",
        "(**hint**: np.ndenumerate, np.ndindex)"
      ]
    },
    {
      "cell_type": "code",
      "execution_count": null,
      "metadata": {
        "id": "gcpkfZTJJfTY",
        "colab": {
          "base_uri": "https://localhost:8080/"
        },
        "outputId": "79211fd4-f300-402d-e0aa-13ab49c00f78"
      },
      "outputs": [
        {
          "output_type": "stream",
          "name": "stdout",
          "text": [
            "Array arr:  [ 2  5  8 11 14 17 20 23]\n",
            "index: (0,) item: 2\n",
            "index: (1,) item: 5\n",
            "index: (2,) item: 8\n",
            "index: (3,) item: 11\n",
            "index: (4,) item: 14\n",
            "index: (5,) item: 17\n",
            "index: (6,) item: 20\n",
            "index: (7,) item: 23\n"
          ]
        }
      ],
      "source": [
        "import numpy as np\n",
        "arr=np.arange(2,25,3)\n",
        "print(\"Array arr: \",arr)\n",
        "for index,item in np.ndenumerate(arr):\n",
        "  print(\"index:\",index,\"item:\",item)"
      ]
    },
    {
      "cell_type": "markdown",
      "metadata": {
        "id": "bfmN5bByJfTZ"
      },
      "source": [
        "#### 56. Generate a generic 2D Gaussian-like array (★★☆) \n",
        "(**hint**: np.meshgrid, np.exp)"
      ]
    },
    {
      "cell_type": "code",
      "execution_count": null,
      "metadata": {
        "id": "mMvoGC4VJfTZ"
      },
      "outputs": [],
      "source": [
        "x, y = np.meshgrid(np.linspace(-1,1,10), np.linspace(-1,1,10))\n",
        "d = np.sqrt(x*x+y*y)\n",
        "sigma, mu = 1.0, 0.0\n",
        "g = np.exp(-( (d-mu)**2 / ( 2.0 * sigma**2 ) ) )"
      ]
    },
    {
      "cell_type": "markdown",
      "metadata": {
        "id": "8QIcNRjCJfTZ"
      },
      "source": [
        "#### 57. How to randomly place p elements in a 2D array? (★★☆) \n",
        "(**hint**: np.put, np.random.choice)"
      ]
    },
    {
      "cell_type": "code",
      "execution_count": null,
      "metadata": {
        "id": "UbuMJBnpJfTa"
      },
      "outputs": [],
      "source": [
        "m = 5; n = 3;\n",
        "out = np.zeros((m,m),dtype=bool)\n",
        "np.put(out,np.random.choice(range(m*m), n, replace=False),1)"
      ]
    },
    {
      "cell_type": "markdown",
      "metadata": {
        "id": "LnZz1y0eJfTa"
      },
      "source": [
        "#### 58. Subtract the mean of each row of a matrix (★★☆) \n",
        "(**hint**: mean(axis=,keepdims=))"
      ]
    },
    {
      "cell_type": "code",
      "execution_count": null,
      "metadata": {
        "id": "4jZK6Uo0JfTa",
        "colab": {
          "base_uri": "https://localhost:8080/"
        },
        "outputId": "d407d365-5ed5-43af-b00f-532d0af02cbd"
      },
      "outputs": [
        {
          "output_type": "stream",
          "name": "stdout",
          "text": [
            "Original matrix:\n",
            "\n",
            "[[0.42310093 0.55299609 0.64053591 0.48791368 0.11845509 0.65841352\n",
            "  0.86028367 0.65331714 0.73904708 0.53080051]\n",
            " [0.33825864 0.18146826 0.8853624  0.0265518  0.27200989 0.04905193\n",
            "  0.20676569 0.02471273 0.75228825 0.22166983]\n",
            " [0.88236037 0.43837959 0.56636248 0.84354209 0.11013041 0.42836086\n",
            "  0.69105814 0.96524796 0.65891752 0.90165253]\n",
            " [0.12050005 0.79209644 0.22648361 0.00670142 0.65435408 0.62298318\n",
            "  0.82928181 0.79416997 0.71747158 0.2285536 ]\n",
            " [0.34496174 0.58681907 0.32149833 0.04856446 0.3172212  0.36096638\n",
            "  0.04292142 0.75742821 0.05218923 0.05967491]]\n",
            "\n",
            "Subtract the mean of each row of the said matrix:\n",
            "\n",
            "[[-0.14338544 -0.01349027  0.07404955 -0.07857269 -0.44803128  0.09192716\n",
            "   0.29379731  0.08683078  0.17256072 -0.03568585]\n",
            " [ 0.0424447  -0.11434568  0.58954846 -0.26926214 -0.02380405 -0.24676202\n",
            "  -0.08904825 -0.27110121  0.45647431 -0.07414412]\n",
            " [ 0.23375917 -0.21022161 -0.08223871  0.19494089 -0.53847079 -0.22024033\n",
            "   0.04245695  0.31664677  0.01031633  0.25305134]\n",
            " [-0.37875952  0.29283687 -0.27277597 -0.49255816  0.1550945   0.12372361\n",
            "   0.33002223  0.2949104   0.21821201 -0.27070597]\n",
            " [ 0.05573725  0.29759457  0.03227384 -0.24066003  0.0279967   0.07174188\n",
            "  -0.24630308  0.46820372 -0.23703526 -0.22954959]]\n"
          ]
        }
      ],
      "source": [
        "import numpy as np\n",
        "print(\"Original matrix:\\n\")\n",
        "X = np.random.rand(5, 10)\n",
        "print(X)\n",
        "print(\"\\nSubtract the mean of each row of the said matrix:\\n\")\n",
        "Y = X - X.mean(axis=1, keepdims=True)\n",
        "print(Y)"
      ]
    },
    {
      "cell_type": "markdown",
      "metadata": {
        "id": "meMftWxYJfTa"
      },
      "source": [
        "#### 59. How to sort an array by the nth column? (★★☆) \n",
        "(**hint**: argsort)"
      ]
    },
    {
      "cell_type": "code",
      "execution_count": null,
      "metadata": {
        "id": "EJZz3fYhJfTa"
      },
      "outputs": [],
      "source": [
        "a = np.array([[9, 2, 3],[4, 5, 6],[7, 0, 5]])"
      ]
    },
    {
      "cell_type": "markdown",
      "metadata": {
        "id": "KZk7q_kpJfTb"
      },
      "source": [
        "#### 60. How to tell if a given 2D array has null columns? (★★☆) \n",
        "(**hint**: any, ~)"
      ]
    },
    {
      "cell_type": "code",
      "execution_count": null,
      "metadata": {
        "id": "KDvgL3OWJfTb"
      },
      "outputs": [],
      "source": [
        "import numpy as np"
      ]
    },
    {
      "cell_type": "markdown",
      "metadata": {
        "id": "Uhbk0B_9JfTb"
      },
      "source": [
        "#### 61. Find the nearest value from a given value in an array (★★☆) \n",
        "(**hint**: np.abs, argmin, flat)"
      ]
    },
    {
      "cell_type": "code",
      "execution_count": null,
      "metadata": {
        "id": "f8VHFlv2JfTb",
        "colab": {
          "base_uri": "https://localhost:8080/"
        },
        "outputId": "9667034b-1fc6-499a-d0ba-7c2111f869b4"
      },
      "outputs": [
        {
          "output_type": "stream",
          "name": "stdout",
          "text": [
            "3.8493113375995827\n"
          ]
        }
      ],
      "source": [
        "import numpy as np\n",
        "x = np.random.uniform(1, 12, 5)\n",
        "v = 4\n",
        "n = x.flat[np.abs(x - v).argmin()]\n",
        "print(n)"
      ]
    },
    {
      "cell_type": "markdown",
      "metadata": {
        "id": "PCENDlEEJfTb"
      },
      "source": [
        "#### 62. Considering two arrays with shape (1,3) and (3,1), how to compute their sum using an iterator? (★★☆) \n",
        "(**hint**: np.nditer)"
      ]
    },
    {
      "cell_type": "code",
      "execution_count": null,
      "metadata": {
        "id": "5fSO4cU7JfTc",
        "colab": {
          "base_uri": "https://localhost:8080/"
        },
        "outputId": "b950b0c4-4526-42bf-c1e5-0ad3ee6c12eb"
      },
      "outputs": [
        {
          "output_type": "execute_result",
          "data": {
            "text/plain": [
              "array([[<__main__.Tomato object at 0x7f48e3ac9640>,\n",
              "        <__main__.Tomato object at 0x7f48e3ac9670>],\n",
              "       [<__main__.Tomato object at 0x7f48e3ac9610>,\n",
              "        <__main__.Tomato object at 0x7f48e3ac96a0>],\n",
              "       [<__main__.Tomato object at 0x7f48e3ac96d0>,\n",
              "        <__main__.Tomato object at 0x7f48e3ac9760>]], dtype=object)"
            ]
          },
          "metadata": {},
          "execution_count": 17
        }
      ],
      "source": [
        "import numpy as np\n",
        "class Tomato:\n",
        "    color = None\n",
        "    radius = None\n",
        "    def __init__(self):\n",
        "        color = np.random.choice(['red', 'green'])\n",
        "        radius = np.random.rand()\n",
        "\n",
        "arr1 = np.array([Tomato() for i in range(6)]).reshape(3, 2)\n",
        "arr1# 100 numpy exercises"
      ]
    },
    {
      "cell_type": "markdown",
      "metadata": {
        "id": "9gPuFYyHJfTc"
      },
      "source": [
        "#### 63. Create an array class that has a name attribute (★★☆) \n",
        "(**hint**: class method)"
      ]
    },
    {
      "cell_type": "code",
      "execution_count": null,
      "metadata": {
        "id": "Gwd1YNOAJfTc",
        "colab": {
          "base_uri": "https://localhost:8080/"
        },
        "outputId": "d09e63fd-6634-44b9-9c7e-77a8049a9c37"
      },
      "outputs": [
        {
          "output_type": "execute_result",
          "data": {
            "text/plain": [
              "array([[<__main__.Tomato object at 0x7f48e3ac9040>,\n",
              "        <__main__.Tomato object at 0x7f48e75b28b0>],\n",
              "       [<__main__.Tomato object at 0x7f48e75b27c0>,\n",
              "        <__main__.Tomato object at 0x7f48e86036d0>],\n",
              "       [<__main__.Tomato object at 0x7f48e8653ee0>,\n",
              "        <__main__.Tomato object at 0x7f48e8653d30>]], dtype=object)"
            ]
          },
          "metadata": {},
          "execution_count": 18
        }
      ],
      "source": [
        "import numpy as np\n",
        "class Tomato:\n",
        "    color = None\n",
        "    radius = None\n",
        "    def __init__(self):\n",
        "        color = np.random.choice(['red', 'green'])\n",
        "        radius = np.random.rand()\n",
        "\n",
        "arr1 = np.array([Tomato() for i in range(6)]).reshape(3, 2)\n",
        "arr1"
      ]
    },
    {
      "cell_type": "markdown",
      "metadata": {
        "id": "7IZF689NJfTc"
      },
      "source": [
        "#### 64. Consider a given vector, how to add 1 to each element indexed by a second vector (be careful with repeated indices)? (★★★) \n",
        "(**hint**: np.bincount | np.add.at)"
      ]
    },
    {
      "cell_type": "code",
      "execution_count": null,
      "metadata": {
        "id": "deuaWt0hJfTc"
      },
      "outputs": [],
      "source": [
        "\n",
        "# 100 numpy exercises\n"
      ]
    },
    {
      "cell_type": "markdown",
      "metadata": {
        "id": "wDVSz7fbJfTc"
      },
      "source": [
        "#### 65. How to accumulate elements of a vector (X) to an array (F) based on an index list (I)? (★★★) \n",
        "(**hint**: np.bincount)"
      ]
    },
    {
      "cell_type": "code",
      "execution_count": null,
      "metadata": {
        "id": "i9bk0O0TJfTc"
      },
      "outputs": [],
      "source": [
        "# 100 numpy exercises\n"
      ]
    },
    {
      "cell_type": "markdown",
      "metadata": {
        "id": "f-xw8HEiJfTc"
      },
      "source": [
        "#### 66. Considering a (w,h,3) image of (dtype=ubyte), compute the number of unique colors (★★★) \n",
        "(**hint**: np.unique)"
      ]
    },
    {
      "cell_type": "code",
      "execution_count": null,
      "metadata": {
        "id": "icwcMQyXJfTd",
        "colab": {
          "base_uri": "https://localhost:8080/"
        },
        "outputId": "0e8c612c-c092-467f-e437-856ac68967cb"
      },
      "outputs": [
        {
          "output_type": "stream",
          "name": "stdout",
          "text": [
            "1.21.6\n",
            "blas_mkl_info:\n",
            "  NOT AVAILABLE\n",
            "blis_info:\n",
            "  NOT AVAILABLE\n",
            "openblas_info:\n",
            "    libraries = ['openblas', 'openblas']\n",
            "    library_dirs = ['/usr/local/lib']\n",
            "    language = c\n",
            "    define_macros = [('HAVE_CBLAS', None)]\n",
            "    runtime_library_dirs = ['/usr/local/lib']\n",
            "blas_opt_info:\n",
            "    libraries = ['openblas', 'openblas']\n",
            "    library_dirs = ['/usr/local/lib']\n",
            "    language = c\n",
            "    define_macros = [('HAVE_CBLAS', None)]\n",
            "    runtime_library_dirs = ['/usr/local/lib']\n",
            "lapack_mkl_info:\n",
            "  NOT AVAILABLE\n",
            "openblas_lapack_info:\n",
            "    libraries = ['openblas', 'openblas']\n",
            "    library_dirs = ['/usr/local/lib']\n",
            "    language = c\n",
            "    define_macros = [('HAVE_CBLAS', None)]\n",
            "    runtime_library_dirs = ['/usr/local/lib']\n",
            "lapack_opt_info:\n",
            "    libraries = ['openblas', 'openblas']\n",
            "    library_dirs = ['/usr/local/lib']\n",
            "    language = c\n",
            "    define_macros = [('HAVE_CBLAS', None)]\n",
            "    runtime_library_dirs = ['/usr/local/lib']\n",
            "Supported SIMD extensions in this NumPy install:\n",
            "    baseline = SSE,SSE2,SSE3\n",
            "    found = SSSE3,SSE41,POPCNT,SSE42,AVX,F16C,FMA3,AVX2\n",
            "    not found = AVX512F,AVX512CD,AVX512_KNL,AVX512_KNM,AVX512_SKX,AVX512_CLX,AVX512_CNL,AVX512_ICL\n"
          ]
        }
      ],
      "source": [
        "print(np.__version__)\n",
        "np.show_config()"
      ]
    },
    {
      "cell_type": "markdown",
      "metadata": {
        "id": "wFaAnW76JfTd"
      },
      "source": [
        "#### 67. Considering a four dimensions array, how to get sum over the last two axis at once? (★★★) \n",
        "(**hint**: sum(axis=(-2,-1)))"
      ]
    },
    {
      "cell_type": "code",
      "execution_count": null,
      "metadata": {
        "id": "sHxjmYwwJfTd"
      },
      "outputs": [],
      "source": []
    },
    {
      "cell_type": "markdown",
      "metadata": {
        "id": "1vbBQ1ybJfTd"
      },
      "source": [
        "#### 68. Considering a one-dimensional vector D, how to compute means of subsets of D using a vector S of same size describing subset  indices? (★★★) \n",
        "(**hint**: np.bincount)"
      ]
    },
    {
      "cell_type": "code",
      "execution_count": null,
      "metadata": {
        "id": "wNSokWhyJfTd"
      },
      "outputs": [],
      "source": [
        "\n",
        "import numpy as np"
      ]
    },
    {
      "cell_type": "markdown",
      "metadata": {
        "id": "3FG_zqzFJfTd"
      },
      "source": [
        "#### 69. How to get the diagonal of a dot product? (★★★) \n",
        "(**hint**: np.diag)"
      ]
    },
    {
      "cell_type": "code",
      "execution_count": null,
      "metadata": {
        "id": "vVh2pDKnJfTd"
      },
      "outputs": [],
      "source": [
        "a = np.random.rand(1000,200)\n",
        "b = np.random.rand(200,200)\n"
      ]
    },
    {
      "cell_type": "markdown",
      "metadata": {
        "id": "HuN0FIT-JfTe"
      },
      "source": [
        "#### 70. Consider the vector \\[1, 2, 3, 4, 5\\], how to build a new vector with 3 consecutive zeros interleaved between each value? (★★★) \n",
        "(**hint**: array\\[::4\\])"
      ]
    },
    {
      "cell_type": "code",
      "execution_count": null,
      "metadata": {
        "id": "QjhKMDEYJfTe"
      },
      "outputs": [],
      "source": [
        "# 100 numpy exercises"
      ]
    },
    {
      "cell_type": "markdown",
      "metadata": {
        "id": "cT_hv7lcJfTe"
      },
      "source": [
        "#### 71. Consider an array of dimension (5,5,3), how to mulitply it by an array with dimensions (5,5)? (★★★) \n",
        "(**hint**: array\\[:, :, None\\])"
      ]
    },
    {
      "cell_type": "code",
      "execution_count": null,
      "metadata": {
        "collapsed": true,
        "id": "uiW3KIoiJfTe"
      },
      "outputs": [],
      "source": [
        "\n",
        "# 100 numpy exercises"
      ]
    },
    {
      "cell_type": "markdown",
      "metadata": {
        "id": "hhRQI0zlJfTe"
      },
      "source": [
        "#### 72. How to swap two rows of an array? (★★★) \n",
        "(**hint**: array\\[\\[\\]\\] = array\\[\\[\\]\\])"
      ]
    },
    {
      "cell_type": "code",
      "execution_count": null,
      "metadata": {
        "id": "bFOGiEFuJfTe"
      },
      "outputs": [],
      "source": [
        "import numpy as np"
      ]
    },
    {
      "cell_type": "markdown",
      "metadata": {
        "id": "LYxq-avDJfTe"
      },
      "source": [
        "#### 73. Consider a set of 10 triplets describing 10 triangles (with shared vertices), find the set of unique line segments composing all the  triangles (★★★) \n",
        "(**hint**: repeat, np.roll, np.sort, view, np.unique)"
      ]
    },
    {
      "cell_type": "code",
      "execution_count": null,
      "metadata": {
        "id": "UAafJZK2JfTf"
      },
      "outputs": [],
      "source": [
        "# 100 numpy exercises"
      ]
    },
    {
      "cell_type": "markdown",
      "metadata": {
        "id": "whdNV5LeJfTf"
      },
      "source": [
        "#### 74. Given an array C that is a bincount, how to produce an array A such that np.bincount(A) == C? (★★★) \n",
        "(**hint**: np.repeat)"
      ]
    },
    {
      "cell_type": "code",
      "execution_count": null,
      "metadata": {
        "id": "mfiSfywuJfTf"
      },
      "outputs": [],
      "source": [
        "# 100 numpy exercises"
      ]
    },
    {
      "cell_type": "markdown",
      "metadata": {
        "id": "QA2MsHScJfTg"
      },
      "source": [
        "#### 75. How to compute averages using a sliding window over an array? (★★★) \n",
        "(**hint**: np.cumsum)"
      ]
    },
    {
      "cell_type": "code",
      "execution_count": null,
      "metadata": {
        "id": "d1WhwGrjJfTg"
      },
      "outputs": [],
      "source": [
        "import numpy as np"
      ]
    },
    {
      "cell_type": "markdown",
      "metadata": {
        "id": "e32KJ2yoJfTg"
      },
      "source": [
        "#### 76. Consider a one-dimensional array Z, build a two-dimensional array whose first row is (Z\\[0\\],Z\\[1\\],Z\\[2\\]) and each subsequent row is  shifted by 1 (last row should be (Z\\[-3\\],Z\\[-2\\],Z\\[-1\\]) (★★★) \n",
        "(**hint**: from numpy.lib import stride_tricks)"
      ]
    },
    {
      "cell_type": "code",
      "execution_count": null,
      "metadata": {
        "id": "bJ3BPNE0JfTg",
        "colab": {
          "base_uri": "https://localhost:8080/"
        },
        "outputId": "e03a815f-840a-4a22-a4e4-b512f4d7ac5f"
      },
      "outputs": [
        {
          "output_type": "stream",
          "name": "stdout",
          "text": [
            "1.21.6\n",
            "blas_mkl_info:\n",
            "  NOT AVAILABLE\n",
            "blis_info:\n",
            "  NOT AVAILABLE\n",
            "openblas_info:\n",
            "    libraries = ['openblas', 'openblas']\n",
            "    library_dirs = ['/usr/local/lib']\n",
            "    language = c\n",
            "    define_macros = [('HAVE_CBLAS', None)]\n",
            "    runtime_library_dirs = ['/usr/local/lib']\n",
            "blas_opt_info:\n",
            "    libraries = ['openblas', 'openblas']\n",
            "    library_dirs = ['/usr/local/lib']\n",
            "    language = c\n",
            "    define_macros = [('HAVE_CBLAS', None)]\n",
            "    runtime_library_dirs = ['/usr/local/lib']\n",
            "lapack_mkl_info:\n",
            "  NOT AVAILABLE\n",
            "openblas_lapack_info:\n",
            "    libraries = ['openblas', 'openblas']\n",
            "    library_dirs = ['/usr/local/lib']\n",
            "    language = c\n",
            "    define_macros = [('HAVE_CBLAS', None)]\n",
            "    runtime_library_dirs = ['/usr/local/lib']\n",
            "lapack_opt_info:\n",
            "    libraries = ['openblas', 'openblas']\n",
            "    library_dirs = ['/usr/local/lib']\n",
            "    language = c\n",
            "    define_macros = [('HAVE_CBLAS', None)]\n",
            "    runtime_library_dirs = ['/usr/local/lib']\n",
            "Supported SIMD extensions in this NumPy install:\n",
            "    baseline = SSE,SSE2,SSE3\n",
            "    found = SSSE3,SSE41,POPCNT,SSE42,AVX,F16C,FMA3,AVX2\n",
            "    not found = AVX512F,AVX512CD,AVX512_KNL,AVX512_KNM,AVX512_SKX,AVX512_CLX,AVX512_CNL,AVX512_ICL\n"
          ]
        }
      ],
      "source": [
        "print(np.__version__)\n",
        "np.__config__.show()"
      ]
    },
    {
      "cell_type": "markdown",
      "metadata": {
        "id": "vUFxrjFjJfTg"
      },
      "source": [
        "#### 77. How to negate a boolean, or to change the sign of a float inplace? (★★★) \n",
        "(**hint**: np.logical_not, np.negative)"
      ]
    },
    {
      "cell_type": "code",
      "execution_count": null,
      "metadata": {
        "id": "4GcDj_9VJfTg",
        "colab": {
          "base_uri": "https://localhost:8080/"
        },
        "outputId": "69d572d4-a14b-4614-b9ff-daf8ec61f4e9"
      },
      "outputs": [
        {
          "output_type": "execute_result",
          "data": {
            "text/plain": [
              "array([False,  True,  True, False])"
            ]
          },
          "metadata": {},
          "execution_count": 39
        }
      ],
      "source": [
        "np.logical_not(3)\n",
        "False\n",
        "np.logical_not([True, False, 0, 1])"
      ]
    },
    {
      "cell_type": "markdown",
      "metadata": {
        "id": "VfzVX58YJfTh"
      },
      "source": [
        "#### 78. Consider 2 sets of points P0,P1 describing lines (2d) and a point p, how to compute distance from p to each line i  (P0\\[i\\],P1\\[i\\])? (★★★)"
      ]
    },
    {
      "cell_type": "code",
      "execution_count": null,
      "metadata": {
        "id": "s1LlZKf-JfTh"
      },
      "outputs": [],
      "source": [
        "# 100 numpy exercises"
      ]
    },
    {
      "cell_type": "markdown",
      "metadata": {
        "id": "EhAEfjlqJfTh"
      },
      "source": [
        "#### 79. Consider 2 sets of points P0,P1 describing lines (2d) and a set of points P, how to compute distance from each point j (P\\[j\\]) to each line i (P0\\[i\\],P1\\[i\\])? (★★★)"
      ]
    },
    {
      "cell_type": "code",
      "execution_count": null,
      "metadata": {
        "id": "CDzDJzyKJfTh"
      },
      "outputs": [],
      "source": [
        "# 100 numpy exercises\n"
      ]
    },
    {
      "cell_type": "markdown",
      "metadata": {
        "id": "LfauBTM5JfTh"
      },
      "source": [
        "#### 80. Consider an arbitrary array, write a function that extract a subpart with a fixed shape and centered on a given element (pad with a `fill` value when necessary) (★★★) \n",
        "(**hint**: minimum, maximum)"
      ]
    },
    {
      "cell_type": "code",
      "execution_count": null,
      "metadata": {
        "id": "GjXPRzDTJfTh"
      },
      "outputs": [],
      "source": [
        "import numpy as np"
      ]
    },
    {
      "cell_type": "markdown",
      "metadata": {
        "id": "I8O0fj-0JfTh"
      },
      "source": [
        "#### 81. Consider an array Z = \\[1,2,3,4,5,6,7,8,9,10,11,12,13,14\\], how to generate an array R = \\[\\[1,2,3,4\\], \\[2,3,4,5\\], \\[3,4,5,6\\], ..., \\[11,12,13,14\\]\\]? (★★★) \n",
        "(**hint**: stride\\_tricks.as\\_strided)"
      ]
    },
    {
      "cell_type": "code",
      "execution_count": null,
      "metadata": {
        "id": "-L0fqCMQJfTi",
        "colab": {
          "base_uri": "https://localhost:8080/"
        },
        "outputId": "389fc791-e6b0-4dbd-e9ba-6cc68145a639"
      },
      "outputs": [
        {
          "output_type": "stream",
          "name": "stdout",
          "text": [
            "1.21.6\n",
            "blas_mkl_info:\n",
            "  NOT AVAILABLE\n",
            "blis_info:\n",
            "  NOT AVAILABLE\n",
            "openblas_info:\n",
            "    libraries = ['openblas', 'openblas']\n",
            "    library_dirs = ['/usr/local/lib']\n",
            "    language = c\n",
            "    define_macros = [('HAVE_CBLAS', None)]\n",
            "    runtime_library_dirs = ['/usr/local/lib']\n",
            "blas_opt_info:\n",
            "    libraries = ['openblas', 'openblas']\n",
            "    library_dirs = ['/usr/local/lib']\n",
            "    language = c\n",
            "    define_macros = [('HAVE_CBLAS', None)]\n",
            "    runtime_library_dirs = ['/usr/local/lib']\n",
            "lapack_mkl_info:\n",
            "  NOT AVAILABLE\n",
            "openblas_lapack_info:\n",
            "    libraries = ['openblas', 'openblas']\n",
            "    library_dirs = ['/usr/local/lib']\n",
            "    language = c\n",
            "    define_macros = [('HAVE_CBLAS', None)]\n",
            "    runtime_library_dirs = ['/usr/local/lib']\n",
            "lapack_opt_info:\n",
            "    libraries = ['openblas', 'openblas']\n",
            "    library_dirs = ['/usr/local/lib']\n",
            "    language = c\n",
            "    define_macros = [('HAVE_CBLAS', None)]\n",
            "    runtime_library_dirs = ['/usr/local/lib']\n",
            "Supported SIMD extensions in this NumPy install:\n",
            "    baseline = SSE,SSE2,SSE3\n",
            "    found = SSSE3,SSE41,POPCNT,SSE42,AVX,F16C,FMA3,AVX2\n",
            "    not found = AVX512F,AVX512CD,AVX512_KNL,AVX512_KNM,AVX512_SKX,AVX512_CLX,AVX512_CNL,AVX512_ICL\n"
          ]
        }
      ],
      "source": [
        "print(np.__version__)\n",
        "np.__config__.show()"
      ]
    },
    {
      "cell_type": "markdown",
      "metadata": {
        "id": "D_9nCYSGJfTi"
      },
      "source": [
        "#### 82. Compute a matrix rank (★★★) \n",
        "(**hint**: np.linalg.svd) (suggestion: np.linalg.svd)"
      ]
    },
    {
      "cell_type": "code",
      "execution_count": null,
      "metadata": {
        "id": "jwJMyHjbJfTi"
      },
      "outputs": [],
      "source": [
        "a = np.random.randn(9, 6) + 1j*np.random.randn(9, 6)\n",
        "b = np.random.randn(2, 7, 8, 3) + 1j*np.random.randn(2, 7, 8, 3)"
      ]
    },
    {
      "cell_type": "markdown",
      "metadata": {
        "id": "D66REb4eJfTi"
      },
      "source": [
        "#### 83. How to find the most frequent value in an array? \n",
        "(**hint**: np.bincount, argmax)"
      ]
    },
    {
      "cell_type": "code",
      "execution_count": null,
      "metadata": {
        "id": "WlJLqmo_JfTi",
        "colab": {
          "base_uri": "https://localhost:8080/"
        },
        "outputId": "c9bfaa70-5964-4dbb-bd39-b6aa8a5bfb9c"
      },
      "outputs": [
        {
          "output_type": "stream",
          "name": "stdout",
          "text": [
            "Original array:\n",
            "[1 2 3 4 5 1 2 1 1 1]\n",
            "Most frequent value in the above array:\n",
            "1\n"
          ]
        }
      ],
      "source": [
        "# create array\n",
        "x = np.array([1,2,3,4,5,1,2,1,1,1])\n",
        "print(\"Original array:\")\n",
        "print(x)\n",
        "  \n",
        "print(\"Most frequent value in the above array:\")\n",
        "print(np.bincount(x).argmax())"
      ]
    },
    {
      "cell_type": "markdown",
      "metadata": {
        "id": "zYXvuycuJfTi"
      },
      "source": [
        "#### 84. Extract all the contiguous 3x3 blocks from a random 10x10 matrix (★★★) \n",
        "(**hint**: stride\\_tricks.as\\_strided)"
      ]
    },
    {
      "cell_type": "code",
      "execution_count": null,
      "metadata": {
        "id": "CvhRa12jJfTi",
        "colab": {
          "base_uri": "https://localhost:8080/"
        },
        "outputId": "a2be539b-041d-4bb6-dc38-f5b2842bdf1a"
      },
      "outputs": [
        {
          "output_type": "stream",
          "name": "stdout",
          "text": [
            "Original arrays:\n",
            "[[0 2 4 1 1 3 3 4 2 1 2 0]\n",
            " [4 2 3 4 0 3 1 3 4 2 4 2]\n",
            " [1 1 2 1 0 4 3 2 0 3 0 4]\n",
            " [0 1 2 0 1 2 3 1 3 2 2 2]\n",
            " [1 4 3 1 3 3 0 0 2 3 0 4]\n",
            " [3 3 1 4 4 1 0 3 4 4 1 1]\n",
            " [1 2 4 4 4 1 1 4 0 1 4 2]\n",
            " [0 2 2 4 1 0 1 0 2 4 4 0]\n",
            " [4 3 2 4 4 1 1 1 2 0 0 3]\n",
            " [0 4 3 1 0 1 4 3 0 2 3 2]\n",
            " [4 1 0 1 0 3 0 3 2 0 2 3]\n",
            " [1 0 1 0 0 3 0 3 1 3 1 1]]\n",
            "\n",
            "Contiguous 4x4 blocks:\n",
            "[[[[0 2 4 1]\n",
            "   [4 2 3 4]\n",
            "   [1 1 2 1]\n",
            "   [0 1 2 0]]\n",
            "\n",
            "  [[2 4 1 1]\n",
            "   [2 3 4 0]\n",
            "   [1 2 1 0]\n",
            "   [1 2 0 1]]\n",
            "\n",
            "  [[4 1 1 3]\n",
            "   [3 4 0 3]\n",
            "   [2 1 0 4]\n",
            "   [2 0 1 2]]\n",
            "\n",
            "  ...\n",
            "\n",
            "  [[3 4 2 1]\n",
            "   [1 3 4 2]\n",
            "   [3 2 0 3]\n",
            "   [3 1 3 2]]\n",
            "\n",
            "  [[4 2 1 2]\n",
            "   [3 4 2 4]\n",
            "   [2 0 3 0]\n",
            "   [1 3 2 2]]\n",
            "\n",
            "  [[2 1 2 0]\n",
            "   [4 2 4 2]\n",
            "   [0 3 0 4]\n",
            "   [3 2 2 2]]]\n",
            "\n",
            "\n",
            " [[[4 2 3 4]\n",
            "   [1 1 2 1]\n",
            "   [0 1 2 0]\n",
            "   [1 4 3 1]]\n",
            "\n",
            "  [[2 3 4 0]\n",
            "   [1 2 1 0]\n",
            "   [1 2 0 1]\n",
            "   [4 3 1 3]]\n",
            "\n",
            "  [[3 4 0 3]\n",
            "   [2 1 0 4]\n",
            "   [2 0 1 2]\n",
            "   [3 1 3 3]]\n",
            "\n",
            "  ...\n",
            "\n",
            "  [[1 3 4 2]\n",
            "   [3 2 0 3]\n",
            "   [3 1 3 2]\n",
            "   [0 0 2 3]]\n",
            "\n",
            "  [[3 4 2 4]\n",
            "   [2 0 3 0]\n",
            "   [1 3 2 2]\n",
            "   [0 2 3 0]]\n",
            "\n",
            "  [[4 2 4 2]\n",
            "   [0 3 0 4]\n",
            "   [3 2 2 2]\n",
            "   [2 3 0 4]]]\n",
            "\n",
            "\n",
            " [[[1 1 2 1]\n",
            "   [0 1 2 0]\n",
            "   [1 4 3 1]\n",
            "   [3 3 1 4]]\n",
            "\n",
            "  [[1 2 1 0]\n",
            "   [1 2 0 1]\n",
            "   [4 3 1 3]\n",
            "   [3 1 4 4]]\n",
            "\n",
            "  [[2 1 0 4]\n",
            "   [2 0 1 2]\n",
            "   [3 1 3 3]\n",
            "   [1 4 4 1]]\n",
            "\n",
            "  ...\n",
            "\n",
            "  [[3 2 0 3]\n",
            "   [3 1 3 2]\n",
            "   [0 0 2 3]\n",
            "   [0 3 4 4]]\n",
            "\n",
            "  [[2 0 3 0]\n",
            "   [1 3 2 2]\n",
            "   [0 2 3 0]\n",
            "   [3 4 4 1]]\n",
            "\n",
            "  [[0 3 0 4]\n",
            "   [3 2 2 2]\n",
            "   [2 3 0 4]\n",
            "   [4 4 1 1]]]\n",
            "\n",
            "\n",
            " ...\n",
            "\n",
            "\n",
            " [[[1 2 4 4]\n",
            "   [0 2 2 4]\n",
            "   [4 3 2 4]\n",
            "   [0 4 3 1]]\n",
            "\n",
            "  [[2 4 4 4]\n",
            "   [2 2 4 1]\n",
            "   [3 2 4 4]\n",
            "   [4 3 1 0]]\n",
            "\n",
            "  [[4 4 4 1]\n",
            "   [2 4 1 0]\n",
            "   [2 4 4 1]\n",
            "   [3 1 0 1]]\n",
            "\n",
            "  ...\n",
            "\n",
            "  [[1 4 0 1]\n",
            "   [1 0 2 4]\n",
            "   [1 1 2 0]\n",
            "   [4 3 0 2]]\n",
            "\n",
            "  [[4 0 1 4]\n",
            "   [0 2 4 4]\n",
            "   [1 2 0 0]\n",
            "   [3 0 2 3]]\n",
            "\n",
            "  [[0 1 4 2]\n",
            "   [2 4 4 0]\n",
            "   [2 0 0 3]\n",
            "   [0 2 3 2]]]\n",
            "\n",
            "\n",
            " [[[0 2 2 4]\n",
            "   [4 3 2 4]\n",
            "   [0 4 3 1]\n",
            "   [4 1 0 1]]\n",
            "\n",
            "  [[2 2 4 1]\n",
            "   [3 2 4 4]\n",
            "   [4 3 1 0]\n",
            "   [1 0 1 0]]\n",
            "\n",
            "  [[2 4 1 0]\n",
            "   [2 4 4 1]\n",
            "   [3 1 0 1]\n",
            "   [0 1 0 3]]\n",
            "\n",
            "  ...\n",
            "\n",
            "  [[1 0 2 4]\n",
            "   [1 1 2 0]\n",
            "   [4 3 0 2]\n",
            "   [0 3 2 0]]\n",
            "\n",
            "  [[0 2 4 4]\n",
            "   [1 2 0 0]\n",
            "   [3 0 2 3]\n",
            "   [3 2 0 2]]\n",
            "\n",
            "  [[2 4 4 0]\n",
            "   [2 0 0 3]\n",
            "   [0 2 3 2]\n",
            "   [2 0 2 3]]]\n",
            "\n",
            "\n",
            " [[[4 3 2 4]\n",
            "   [0 4 3 1]\n",
            "   [4 1 0 1]\n",
            "   [1 0 1 0]]\n",
            "\n",
            "  [[3 2 4 4]\n",
            "   [4 3 1 0]\n",
            "   [1 0 1 0]\n",
            "   [0 1 0 0]]\n",
            "\n",
            "  [[2 4 4 1]\n",
            "   [3 1 0 1]\n",
            "   [0 1 0 3]\n",
            "   [1 0 0 3]]\n",
            "\n",
            "  ...\n",
            "\n",
            "  [[1 1 2 0]\n",
            "   [4 3 0 2]\n",
            "   [0 3 2 0]\n",
            "   [0 3 1 3]]\n",
            "\n",
            "  [[1 2 0 0]\n",
            "   [3 0 2 3]\n",
            "   [3 2 0 2]\n",
            "   [3 1 3 1]]\n",
            "\n",
            "  [[2 0 0 3]\n",
            "   [0 2 3 2]\n",
            "   [2 0 2 3]\n",
            "   [1 3 1 1]]]]\n"
          ]
        }
      ],
      "source": [
        "import numpy as np\n",
        "arra1 = np.random.randint(0,5,(12,12))\n",
        "print(\"Original arrays:\")\n",
        "print(arra1)\n",
        "n = 4\n",
        "i = 1 + (arra1.shape[0]-4)\n",
        "j = 1 + (arra1.shape[1]-4)\n",
        "result = np.lib.stride_tricks.as_strided(arra1, shape=(i, j, n, n), strides = arra1.strides + arra1.strides)\n",
        "print(\"\\nContiguous 4x4 blocks:\")\n",
        "print(result)"
      ]
    },
    {
      "cell_type": "markdown",
      "metadata": {
        "id": "gAoPBEkZJfTj"
      },
      "source": [
        "#### 85. Create a 2D array subclass such that Z\\[i,j\\] == Z\\[j,i\\] (★★★) \n",
        "(**hint**: class method)"
      ]
    },
    {
      "cell_type": "code",
      "execution_count": null,
      "metadata": {
        "id": "Bf0HKbnUJfTj"
      },
      "outputs": [],
      "source": [
        "# 100 numpy exercises\n"
      ]
    },
    {
      "cell_type": "markdown",
      "metadata": {
        "id": "5PuRhjQQJfTj"
      },
      "source": [
        "#### 86. Consider a set of p matrices wich shape (n,n) and a set of p vectors with shape (n,1). How to compute the sum of of the p matrix products at once? (result has shape (n,1)) (★★★) \n",
        "(**hint**: np.tensordot)"
      ]
    },
    {
      "cell_type": "code",
      "execution_count": null,
      "metadata": {
        "id": "aEaO-VwwJfTj"
      },
      "outputs": [],
      "source": [
        "# 100 numpy exercises"
      ]
    },
    {
      "cell_type": "markdown",
      "metadata": {
        "id": "cQLirv9dJfTj"
      },
      "source": [
        "#### 87. Consider a 16x16 array, how to get the block-sum (block size is 4x4)? (★★★) \n",
        "(**hint**: np.add.reduceat)"
      ]
    },
    {
      "cell_type": "code",
      "execution_count": null,
      "metadata": {
        "id": "kKgXa9URJfTj"
      },
      "outputs": [],
      "source": [
        "# 100 numpy exercises"
      ]
    },
    {
      "cell_type": "markdown",
      "metadata": {
        "id": "CiO4fidBJfTj"
      },
      "source": [
        "#### 88. How to implement the Game of Life using numpy arrays? (★★★)"
      ]
    },
    {
      "cell_type": "code",
      "execution_count": null,
      "metadata": {
        "id": "e4dNzp5fJfTj"
      },
      "outputs": [],
      "source": [
        "import numpy as np\n",
        "\n",
        "def life_step_1(X):\n",
        "    \"\"\"Game of life step using generator expressions\"\"\"\n",
        "    nbrs_count = sum(np.roll(np.roll(X, i, 0), j, 1)\n",
        "                     for i in (-1, 0, 1) for j in (-1, 0, 1)\n",
        "                     if (i != 0 or j != 0))\n",
        "    return (nbrs_count == 3) | (X & (nbrs_count == 2))\n",
        "\n",
        "def life_step_2(X):\n",
        "    \"\"\"Game of life step using scipy tools\"\"\"\n",
        "    from scipy.signal import convolve2d\n",
        "    nbrs_count = convolve2d(X, np.ones((3, 3)), mode='same', boundary='wrap') - X\n",
        "    return (nbrs_count == 3) | (X & (nbrs_count == 2))\n",
        "    \n",
        "life_step = life_step_1\n"
      ]
    },
    {
      "cell_type": "markdown",
      "metadata": {
        "id": "ky_VJmesJfTj"
      },
      "source": [
        "#### 89. How to get the n largest values of an array (★★★) \n",
        "(**hint**: np.argsort | np.argpartition)"
      ]
    },
    {
      "cell_type": "code",
      "execution_count": null,
      "metadata": {
        "id": "-ZmqQKN0JfTj"
      },
      "outputs": [],
      "source": [
        "import numpy as np\n",
        "N=10\n",
        "a=np.arange(1,100,1)\n"
      ]
    },
    {
      "cell_type": "markdown",
      "metadata": {
        "id": "040oM7UoJfTj"
      },
      "source": [
        "#### 90. Given an arbitrary number of vectors, build the cartesian product (every combinations of every item) (★★★) \n",
        "(**hint**: np.indices)"
      ]
    },
    {
      "cell_type": "code",
      "execution_count": null,
      "metadata": {
        "scrolled": true,
        "id": "28oLCOqaJfTk"
      },
      "outputs": [],
      "source": [
        "# 100 numpy exercises"
      ]
    },
    {
      "cell_type": "markdown",
      "metadata": {
        "id": "U28zFCbmJfTk"
      },
      "source": [
        "#### 91. How to create a record array from a regular array? (★★★) \n",
        "(**hint**: np.core.records.fromarrays)"
      ]
    },
    {
      "cell_type": "code",
      "execution_count": null,
      "metadata": {
        "id": "MdOibiXIJfTk",
        "colab": {
          "base_uri": "https://localhost:8080/"
        },
        "outputId": "d2461022-ad2a-45f1-8538-3ddff8e1cb2f"
      },
      "outputs": [
        {
          "output_type": "stream",
          "name": "stdout",
          "text": [
            "Original arrays:\n",
            "[['Yasemin Rayner' '88.5' '90']\n",
            " ['Ayaana Mcnamara' '87' '99']\n",
            " ['Jody Preece' '85.5' '91']]\n",
            "\n",
            "Record array;\n",
            "[(b'Yasemin Rayner', 88.5, 90) (b'Ayaana Mcnamara', 87. , 99)\n",
            " (b'Jody Preece', 85.5, 91)]\n"
          ]
        }
      ],
      "source": [
        "import numpy as np\n",
        "arra1 = np.array([(\"Yasemin Rayner\", 88.5, 90),\n",
        "                 (\"Ayaana Mcnamara\", 87, 99),\n",
        "             (\"Jody Preece\", 85.5, 91)])\n",
        "print(\"Original arrays:\")\n",
        "print(arra1)\n",
        "print(\"\\nRecord array;\")\n",
        "result = np.core.records.fromarrays(arra1.T,\n",
        "                              names='col1, col2, col3',\n",
        "                              formats = 'S80, f8, i8')\n",
        "print(result)"
      ]
    },
    {
      "cell_type": "markdown",
      "metadata": {
        "id": "Dboc5_NzJfTk"
      },
      "source": [
        "#### 92. Consider a large vector Z, compute Z to the power of 3 using 3 different methods (★★★) \n",
        "(**hint**: np.power, \\*, np.einsum)"
      ]
    },
    {
      "cell_type": "code",
      "execution_count": null,
      "metadata": {
        "id": "k_GAPg0HJfTk"
      },
      "outputs": [],
      "source": [
        "# 100 numpy exercises"
      ]
    },
    {
      "cell_type": "markdown",
      "metadata": {
        "id": "olQ8i8izJfTk"
      },
      "source": [
        "#### 93. Consider two arrays A and B of shape (8,3) and (2,2). How to find rows of A that contain elements of each row of B regardless of the order of the elements in B? (★★★) \n",
        "(**hint**: np.where)"
      ]
    },
    {
      "cell_type": "code",
      "execution_count": null,
      "metadata": {
        "id": "neuLzKWpJfTk"
      },
      "outputs": [],
      "source": [
        "# 100 numpy exercises\n"
      ]
    },
    {
      "cell_type": "markdown",
      "metadata": {
        "id": "Wbbr3mIqJfTk"
      },
      "source": [
        "#### 94. Considering a 10x3 matrix, extract rows with unequal values (e.g. \\[2,2,3\\]) (★★★)"
      ]
    },
    {
      "cell_type": "code",
      "execution_count": null,
      "metadata": {
        "id": "DGTmES29JfTk",
        "colab": {
          "base_uri": "https://localhost:8080/"
        },
        "outputId": "5be4464e-67b2-4284-daff-dc46d518a272"
      },
      "outputs": [
        {
          "output_type": "stream",
          "name": "stdout",
          "text": [
            "Original vector:\n",
            "[[3 0 3]\n",
            " [2 0 2]\n",
            " [3 0 1]\n",
            " [3 1 2]\n",
            " [0 2 1]\n",
            " [2 0 3]]\n",
            "\n",
            "Rows with unequal values:\n",
            "[[3 0 3]\n",
            " [2 0 2]\n",
            " [3 0 1]\n",
            " [3 1 2]\n",
            " [0 2 1]\n",
            " [2 0 3]]\n"
          ]
        }
      ],
      "source": [
        "import numpy as np\n",
        "nums = np.random.randint(0,4,(6,3))\n",
        "print(\"Original vector:\")\n",
        "print(nums)\n",
        "new_nums = np.logical_and.reduce(nums[:,1:] == nums[:,:-1], axis=1)\n",
        "result = nums[~new_nums]\n",
        "print(\"\\nRows with unequal values:\")\n",
        "print(result)"
      ]
    },
    {
      "cell_type": "markdown",
      "metadata": {
        "id": "c2ETtRklJfTk"
      },
      "source": [
        "#### 95. Convert a vector of ints into a matrix binary representation (★★★) \n",
        "(**hint**: np.unpackbits)"
      ]
    },
    {
      "cell_type": "code",
      "execution_count": null,
      "metadata": {
        "id": "LXCbpZPSJfTk",
        "colab": {
          "base_uri": "https://localhost:8080/"
        },
        "outputId": "eb1b4786-d3b2-4d49-c7ab-4053d1ceccf8"
      },
      "outputs": [
        {
          "output_type": "stream",
          "name": "stdout",
          "text": [
            "Original vector:\n",
            "[ 0  1  3  5  7  9 11 13 15]\n",
            "\n",
            "Binary representation of the said vector:\n",
            "[[0 0 0 0 0 0 0 0]\n",
            " [0 0 0 0 0 0 0 1]\n",
            " [0 0 0 0 0 0 1 1]\n",
            " [0 0 0 0 0 1 0 1]\n",
            " [0 0 0 0 0 1 1 1]\n",
            " [0 0 0 0 1 0 0 1]\n",
            " [0 0 0 0 1 0 1 1]\n",
            " [0 0 0 0 1 1 0 1]\n",
            " [0 0 0 0 1 1 1 1]]\n"
          ]
        }
      ],
      "source": [
        "import numpy as np\n",
        "nums = np.array([0, 1, 3, 5, 7, 9, 11, 13, 15])\n",
        "print(\"Original vector:\")\n",
        "print(nums)\n",
        "bin_nums = ((nums.reshape(-1,1) & (2**np.arange(8))) != 0).astype(int)\n",
        "print(\"\\nBinary representation of the said vector:\")\n",
        "print(bin_nums[:,::-1])\n"
      ]
    },
    {
      "cell_type": "markdown",
      "metadata": {
        "id": "w0hoWH7GJfTl"
      },
      "source": [
        "#### 96. Given a two dimensional array, how to extract unique rows? (★★★) \n",
        "(**hint**: np.ascontiguousarray)"
      ]
    },
    {
      "cell_type": "code",
      "execution_count": null,
      "metadata": {
        "id": "Z7rcCcKwJfTl"
      },
      "outputs": [],
      "source": [
        "# 100 numpy exercises"
      ]
    },
    {
      "cell_type": "markdown",
      "metadata": {
        "id": "pOe4YIK9JfTl"
      },
      "source": [
        "#### 97. Considering 2 vectors A & B, write the einsum equivalent of inner, outer, sum, and mul function (★★★) \n",
        "(**hint**: np.einsum)"
      ]
    },
    {
      "cell_type": "code",
      "execution_count": null,
      "metadata": {
        "id": "hGExxnbyJfTl"
      },
      "outputs": [],
      "source": [
        "a = np.arange(25).reshape(5,5)\n",
        "b = np.arange(5)\n",
        "c = np.arange(6).reshape(2,3)"
      ]
    },
    {
      "cell_type": "markdown",
      "metadata": {
        "id": "OP9GGJVPJfTl"
      },
      "source": [
        "#### 98. Considering a path described by two vectors (X,Y), how to sample it using equidistant samples (★★★)? \n",
        "(**hint**: np.cumsum, np.interp)"
      ]
    },
    {
      "cell_type": "code",
      "execution_count": null,
      "metadata": {
        "collapsed": true,
        "id": "DuO202OcJfTl"
      },
      "outputs": [],
      "source": [
        "# 100 numpy exercises\n"
      ]
    },
    {
      "cell_type": "markdown",
      "metadata": {
        "id": "_OyaEhLaJfTl"
      },
      "source": [
        "#### 99. Given an integer n and a 2D array X, select from X the rows which can be interpreted as draws from a multinomial distribution with n degrees, i.e., the rows which only contain integers and which sum to n. (★★★) \n",
        "(**hint**: np.logical\\_and.reduce, np.mod)"
      ]
    },
    {
      "cell_type": "code",
      "execution_count": null,
      "metadata": {
        "id": "3uz2_CEfJfTl"
      },
      "outputs": [],
      "source": [
        "# 100 numpy exercises\n"
      ]
    },
    {
      "cell_type": "markdown",
      "metadata": {
        "id": "AZoS4J1-JfTl"
      },
      "source": [
        "#### 100. Compute bootstrapped 95% confidence intervals for the mean of a 1D array X (i.e., resample the elements of an array with replacement N times, compute the mean of each sample, and then compute percentiles over the means). (★★★) \n",
        "(**hint**: np.percentile)"
      ]
    },
    {
      "cell_type": "code",
      "execution_count": null,
      "metadata": {
        "id": "bXjnyCiXJfTl",
        "colab": {
          "base_uri": "https://localhost:8080/"
        },
        "outputId": "559ab32f-20e1-479e-f6c9-c2724cf8ab86"
      },
      "outputs": [
        {
          "output_type": "execute_result",
          "data": {
            "text/plain": [
              "50.0"
            ]
          },
          "metadata": {},
          "execution_count": 66
        }
      ],
      "source": [
        "arr=50 \n",
        "np.percentile(arr, 50)  \n"
      ]
    }
  ],
  "metadata": {
    "kernelspec": {
      "display_name": "Python 3",
      "language": "python",
      "name": "python3"
    },
    "language_info": {
      "codemirror_mode": {
        "name": "ipython",
        "version": 3
      },
      "file_extension": ".py",
      "mimetype": "text/x-python",
      "name": "python",
      "nbconvert_exporter": "python",
      "pygments_lexer": "ipython3",
      "version": "3.8.3"
    },
    "colab": {
      "provenance": [],
      "collapsed_sections": [
        "wFaAnW76JfTd"
      ],
      "include_colab_link": true
    }
  },
  "nbformat": 4,
  "nbformat_minor": 0
}